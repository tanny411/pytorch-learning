{
  "nbformat": 4,
  "nbformat_minor": 0,
  "metadata": {
    "kernelspec": {
      "name": "python3",
      "display_name": "Python 3"
    },
    "language_info": {
      "codemirror_mode": {
        "name": "ipython",
        "version": 3
      },
      "file_extension": ".py",
      "mimetype": "text/x-python",
      "name": "python",
      "nbconvert_exporter": "python",
      "pygments_lexer": "ipython3",
      "version": "3.5.5"
    },
    "colab": {
      "name": "CNN pytorch.ipynb",
      "version": "0.3.2",
      "provenance": [],
      "collapsed_sections": [
        "DZTCyODp--Tl",
        "-gZT5RwERM0T",
        "9oYFu586SR1I",
        "Iq96qpvCSRZe"
      ]
    },
    "accelerator": "GPU"
  },
  "cells": [
    {
      "cell_type": "markdown",
      "metadata": {
        "id": "5jC-dDSQKmtk",
        "colab_type": "text"
      },
      "source": [
        "Data focused considerations:\n",
        "\n",
        "- Who created the dataset?\n",
        "- How was the dataset created?\n",
        "- What transformations were used?\n",
        "- What intent does the dataset have?\n",
        "- Possible unintentional consequences?\n",
        "- Is the dataset biased?\n",
        "- Are there ethical issues with the dataset?"
      ]
    },
    {
      "cell_type": "markdown",
      "metadata": {
        "id": "XVSkdX3RKmto",
        "colab_type": "text"
      },
      "source": [
        "## Prepare data\n",
        "### ETL (Extract, Transform and Load)\n",
        "\n",
        "## Loading"
      ]
    },
    {
      "cell_type": "code",
      "metadata": {
        "id": "NolkDW-XKmtq",
        "colab_type": "code",
        "colab": {}
      },
      "source": [
        "import torch\n",
        "import torchvision #provides popular datasets, transformations, and architectures for images\n",
        "import torchvision.transforms as transforms\n",
        "batch_size = 128"
      ],
      "execution_count": 0,
      "outputs": []
    },
    {
      "cell_type": "markdown",
      "metadata": {
        "id": "c8snFvpt7PIo",
        "colab_type": "text"
      },
      "source": [
        "In pytorch, Dataset is an abstract class, representing a dataset.\n",
        "Example of a custom Dataset class\n",
        "```python\n",
        "class custom(Dataset):\n",
        "  def __init__(self, csv_file):\n",
        "    self.data = pd.read_csv(csv_file)\n",
        "\n",
        "  def __getitem__(self, index):\n",
        "    r = self.data.iloc[index]\n",
        "    label = torch.tensor(r.label, dtype=torch.long)\n",
        "    text = torch.tensor(r.text)\n",
        "    return text, label\n",
        "\n",
        "  def __len__(self):\n",
        "    return len(self.data)\n",
        "```"
      ]
    },
    {
      "cell_type": "code",
      "metadata": {
        "id": "00z_YWOjKmtw",
        "colab_type": "code",
        "outputId": "0caa9198-51fa-4697-8f82-b0f9f3e7ed2e",
        "colab": {
          "base_uri": "https://localhost:8080/",
          "height": 292
        }
      },
      "source": [
        "train_set = torchvision.datasets.FashionMNIST(\n",
        "    root='data/FashionMNIST',\n",
        "    train=True,\n",
        "    download=True,\n",
        "    transform=transforms.Compose([\n",
        "        transforms.ToTensor()\n",
        "    ])\n",
        ")\n",
        "\n",
        "type(train_set)"
      ],
      "execution_count": 0,
      "outputs": [
        {
          "output_type": "stream",
          "text": [
            "  0%|          | 40960/26421880 [00:00<01:05, 402149.55it/s]"
          ],
          "name": "stderr"
        },
        {
          "output_type": "stream",
          "text": [
            "Downloading http://fashion-mnist.s3-website.eu-central-1.amazonaws.com/train-images-idx3-ubyte.gz to data/FashionMNIST/FashionMNIST/raw/train-images-idx3-ubyte.gz\n"
          ],
          "name": "stdout"
        },
        {
          "output_type": "stream",
          "text": [
            "26427392it [00:00, 81840733.06it/s]                            \n"
          ],
          "name": "stderr"
        },
        {
          "output_type": "stream",
          "text": [
            "Extracting data/FashionMNIST/FashionMNIST/raw/train-images-idx3-ubyte.gz\n"
          ],
          "name": "stdout"
        },
        {
          "output_type": "stream",
          "text": [
            "32768it [00:00, 612929.20it/s]\n",
            " 15%|█▌        | 663552/4422102 [00:00<00:00, 6188397.18it/s]"
          ],
          "name": "stderr"
        },
        {
          "output_type": "stream",
          "text": [
            "Downloading http://fashion-mnist.s3-website.eu-central-1.amazonaws.com/train-labels-idx1-ubyte.gz to data/FashionMNIST/FashionMNIST/raw/train-labels-idx1-ubyte.gz\n",
            "Extracting data/FashionMNIST/FashionMNIST/raw/train-labels-idx1-ubyte.gz\n",
            "Downloading http://fashion-mnist.s3-website.eu-central-1.amazonaws.com/t10k-images-idx3-ubyte.gz to data/FashionMNIST/FashionMNIST/raw/t10k-images-idx3-ubyte.gz\n"
          ],
          "name": "stdout"
        },
        {
          "output_type": "stream",
          "text": [
            "4423680it [00:00, 30264058.50it/s]                           \n",
            "8192it [00:00, 214377.22it/s]\n"
          ],
          "name": "stderr"
        },
        {
          "output_type": "stream",
          "text": [
            "Extracting data/FashionMNIST/FashionMNIST/raw/t10k-images-idx3-ubyte.gz\n",
            "Downloading http://fashion-mnist.s3-website.eu-central-1.amazonaws.com/t10k-labels-idx1-ubyte.gz to data/FashionMNIST/FashionMNIST/raw/t10k-labels-idx1-ubyte.gz\n",
            "Extracting data/FashionMNIST/FashionMNIST/raw/t10k-labels-idx1-ubyte.gz\n",
            "Processing...\n",
            "Done!\n"
          ],
          "name": "stdout"
        },
        {
          "output_type": "execute_result",
          "data": {
            "text/plain": [
              "torchvision.datasets.mnist.FashionMNIST"
            ]
          },
          "metadata": {
            "tags": []
          },
          "execution_count": 2
        }
      ]
    },
    {
      "cell_type": "code",
      "metadata": {
        "id": "8wXHCX8AKmt4",
        "colab_type": "code",
        "colab": {}
      },
      "source": [
        "train_loader=torch.utils.data.DataLoader(train_set, batch_size=batch_size)"
      ],
      "execution_count": 0,
      "outputs": []
    },
    {
      "cell_type": "code",
      "metadata": {
        "id": "kmgYwu55Kmt9",
        "colab_type": "code",
        "outputId": "d3b27dd4-b61e-43b7-ff50-625ba446ec97",
        "colab": {
          "base_uri": "https://localhost:8080/",
          "height": 34
        }
      },
      "source": [
        "type(train_loader)"
      ],
      "execution_count": 0,
      "outputs": [
        {
          "output_type": "execute_result",
          "data": {
            "text/plain": [
              "torch.utils.data.dataloader.DataLoader"
            ]
          },
          "metadata": {
            "tags": []
          },
          "execution_count": 4
        }
      ]
    },
    {
      "cell_type": "code",
      "metadata": {
        "id": "8m2Jo0ZxKmuD",
        "colab_type": "code",
        "colab": {}
      },
      "source": [
        "test_set = torchvision.datasets.FashionMNIST(\n",
        "    root='data/FashionMNIST',\n",
        "    train=False,\n",
        "    download=True,\n",
        "    transform=transforms.Compose([\n",
        "        transforms.ToTensor()\n",
        "    ])\n",
        ")\n",
        "\n",
        "test_loader=torch.utils.data.DataLoader(test_set, batch_size=batch_size)"
      ],
      "execution_count": 0,
      "outputs": []
    },
    {
      "cell_type": "markdown",
      "metadata": {
        "id": "jrURPUV1KmuN",
        "colab_type": "text"
      },
      "source": [
        "## See Data"
      ]
    },
    {
      "cell_type": "code",
      "metadata": {
        "id": "EOxtRrBwKmuI",
        "colab_type": "code",
        "colab": {}
      },
      "source": [
        "import numpy as np\n",
        "import matplotlib.pyplot as plt\n",
        "torch.set_printoptions(linewidth=120)"
      ],
      "execution_count": 0,
      "outputs": []
    },
    {
      "cell_type": "code",
      "metadata": {
        "id": "XYUiNjczKmuP",
        "colab_type": "code",
        "outputId": "cbf6fbd6-e033-40aa-f92f-c9204f9c17ac",
        "colab": {
          "base_uri": "https://localhost:8080/",
          "height": 34
        }
      },
      "source": [
        "train_set.targets"
      ],
      "execution_count": 0,
      "outputs": [
        {
          "output_type": "execute_result",
          "data": {
            "text/plain": [
              "tensor([9, 0, 0,  ..., 3, 0, 5])"
            ]
          },
          "metadata": {
            "tags": []
          },
          "execution_count": 7
        }
      ]
    },
    {
      "cell_type": "code",
      "metadata": {
        "id": "qOChNClYKmuV",
        "colab_type": "code",
        "outputId": "8c263bfc-5455-4cca-f71a-37dd26fdca5a",
        "colab": {
          "base_uri": "https://localhost:8080/",
          "height": 34
        }
      },
      "source": [
        "train_set.targets.bincount() \n",
        "# number of samples in each bin/category"
      ],
      "execution_count": 0,
      "outputs": [
        {
          "output_type": "execute_result",
          "data": {
            "text/plain": [
              "tensor([6000, 6000, 6000, 6000, 6000, 6000, 6000, 6000, 6000, 6000])"
            ]
          },
          "metadata": {
            "tags": []
          },
          "execution_count": 8
        }
      ]
    },
    {
      "cell_type": "code",
      "metadata": {
        "id": "lmnAAWOkKmua",
        "colab_type": "code",
        "outputId": "f53cc9be-68df-4bde-c200-8190866ac30d",
        "colab": {
          "base_uri": "https://localhost:8080/",
          "height": 187
        }
      },
      "source": [
        "train_set.classes"
      ],
      "execution_count": 0,
      "outputs": [
        {
          "output_type": "execute_result",
          "data": {
            "text/plain": [
              "['T-shirt/top',\n",
              " 'Trouser',\n",
              " 'Pullover',\n",
              " 'Dress',\n",
              " 'Coat',\n",
              " 'Sandal',\n",
              " 'Shirt',\n",
              " 'Sneaker',\n",
              " 'Bag',\n",
              " 'Ankle boot']"
            ]
          },
          "metadata": {
            "tags": []
          },
          "execution_count": 9
        }
      ]
    },
    {
      "cell_type": "markdown",
      "metadata": {
        "id": "_4MHqq04-LLy",
        "colab_type": "text"
      },
      "source": [
        "**Jeremy mentions a paper for working with class imbalance:** A systematic study of the class imbalance problem in CNN , Mateusz, Atsuto, Maciej, '18"
      ]
    },
    {
      "cell_type": "markdown",
      "metadata": {
        "id": "Pv0IzB1O-8Pl",
        "colab_type": "text"
      },
      "source": [
        "### With dataset"
      ]
    },
    {
      "cell_type": "code",
      "metadata": {
        "id": "yQsBN05XKmuh",
        "colab_type": "code",
        "colab": {}
      },
      "source": [
        "sample = next(iter(train_set))"
      ],
      "execution_count": 0,
      "outputs": []
    },
    {
      "cell_type": "code",
      "metadata": {
        "id": "2JlvqO4aKmum",
        "colab_type": "code",
        "outputId": "fa2dd991-1004-48e9-9d4b-45bc168e0710",
        "colab": {
          "base_uri": "https://localhost:8080/",
          "height": 34
        }
      },
      "source": [
        "len(sample) , type(sample)"
      ],
      "execution_count": 0,
      "outputs": [
        {
          "output_type": "execute_result",
          "data": {
            "text/plain": [
              "(2, tuple)"
            ]
          },
          "metadata": {
            "tags": []
          },
          "execution_count": 11
        }
      ]
    },
    {
      "cell_type": "code",
      "metadata": {
        "id": "aZu-QU1oKmuu",
        "colab_type": "code",
        "colab": {}
      },
      "source": [
        "image, label = sample\n",
        "#sequence / list unpacking"
      ],
      "execution_count": 0,
      "outputs": []
    },
    {
      "cell_type": "code",
      "metadata": {
        "id": "iQE5bAR9Kmu2",
        "colab_type": "code",
        "outputId": "6ae36890-43a9-4bc8-e2cc-783d930eded4",
        "colab": {
          "base_uri": "https://localhost:8080/",
          "height": 34
        }
      },
      "source": [
        "image.shape , label"
      ],
      "execution_count": 0,
      "outputs": [
        {
          "output_type": "execute_result",
          "data": {
            "text/plain": [
              "(torch.Size([1, 28, 28]), 9)"
            ]
          },
          "metadata": {
            "tags": []
          },
          "execution_count": 13
        }
      ]
    },
    {
      "cell_type": "code",
      "metadata": {
        "id": "VSDLwYTaKmu7",
        "colab_type": "code",
        "outputId": "339ab8de-5cf3-4138-9691-ee96ed684b65",
        "colab": {
          "base_uri": "https://localhost:8080/",
          "height": 269
        }
      },
      "source": [
        "plt.imshow(image.squeeze(), cmap='gray');"
      ],
      "execution_count": 0,
      "outputs": [
        {
          "output_type": "display_data",
          "data": {
            "image/png": "[encoded data removed]",
            "text/plain": [
              "<Figure size 432x288 with 1 Axes>"
            ]
          },
          "metadata": {
            "tags": []
          }
        }
      ]
    },
    {
      "cell_type": "markdown",
      "metadata": {
        "id": "DZTCyODp--Tl",
        "colab_type": "text"
      },
      "source": [
        "### With dataloader"
      ]
    },
    {
      "cell_type": "code",
      "metadata": {
        "id": "WlZLTaihKmvA",
        "colab_type": "code",
        "colab": {}
      },
      "source": [
        "batch = next(iter(train_loader))"
      ],
      "execution_count": 0,
      "outputs": []
    },
    {
      "cell_type": "code",
      "metadata": {
        "id": "TFTUJVbNKmvE",
        "colab_type": "code",
        "outputId": "7778b57e-7da0-4f04-8dff-ff23440cf120",
        "colab": {
          "base_uri": "https://localhost:8080/",
          "height": 34
        }
      },
      "source": [
        "len(batch) , type(batch)"
      ],
      "execution_count": 0,
      "outputs": [
        {
          "output_type": "execute_result",
          "data": {
            "text/plain": [
              "(2, list)"
            ]
          },
          "metadata": {
            "tags": []
          },
          "execution_count": 16
        }
      ]
    },
    {
      "cell_type": "code",
      "metadata": {
        "id": "MAGQNDJ2KmvK",
        "colab_type": "code",
        "outputId": "be3d995f-e046-44dd-fafc-2d41bb63a863",
        "colab": {
          "base_uri": "https://localhost:8080/",
          "height": 34
        }
      },
      "source": [
        "images, labels = batch\n",
        "len(images) , len(labels)"
      ],
      "execution_count": 0,
      "outputs": [
        {
          "output_type": "execute_result",
          "data": {
            "text/plain": [
              "(128, 128)"
            ]
          },
          "metadata": {
            "tags": []
          },
          "execution_count": 17
        }
      ]
    },
    {
      "cell_type": "code",
      "metadata": {
        "id": "WFZwRHFWKmvP",
        "colab_type": "code",
        "outputId": "f8899d86-6e67-48f3-c157-8eab9cde2c5f",
        "colab": {
          "base_uri": "https://localhost:8080/",
          "height": 34
        }
      },
      "source": [
        "images.shape , labels.shape"
      ],
      "execution_count": 0,
      "outputs": [
        {
          "output_type": "execute_result",
          "data": {
            "text/plain": [
              "(torch.Size([128, 1, 28, 28]), torch.Size([128]))"
            ]
          },
          "metadata": {
            "tags": []
          },
          "execution_count": 18
        }
      ]
    },
    {
      "cell_type": "code",
      "metadata": {
        "id": "WmknwMiQKmvT",
        "colab_type": "code",
        "outputId": "7f188c10-8fa5-4fd6-aa78-26990ae3328a",
        "colab": {
          "base_uri": "https://localhost:8080/",
          "height": 540
        }
      },
      "source": [
        "grid = torchvision.utils.make_grid(images, nrow=16)\n",
        "#nrow: number of images in each row\n",
        "\n",
        "plt.figure(figsize=(15,15))\n",
        "plt.imshow(np.transpose(grid, (1,2,0)))\n",
        "\n",
        "print(labels)"
      ],
      "execution_count": 0,
      "outputs": [
        {
          "output_type": "stream",
          "text": [
            "tensor([9, 0, 0, 3, 0, 2, 7, 2, 5, 5, 0, 9, 5, 5, 7, 9, 1, 0, 6, 4, 3, 1, 4, 8, 4, 3, 0, 2, 4, 4, 5, 3, 6, 6, 0, 8, 5,\n",
            "        2, 1, 6, 6, 7, 9, 5, 9, 2, 7, 3, 0, 3, 3, 3, 7, 2, 2, 6, 6, 8, 3, 3, 5, 0, 5, 5, 0, 2, 0, 0, 4, 1, 3, 1, 6, 3,\n",
            "        1, 4, 4, 6, 1, 9, 1, 3, 5, 7, 9, 7, 1, 7, 9, 9, 9, 3, 2, 9, 3, 6, 4, 1, 1, 8, 8, 0, 1, 1, 6, 8, 1, 9, 7, 8, 8,\n",
            "        9, 6, 6, 3, 1, 5, 4, 6, 7, 5, 5, 9, 2, 2, 2, 7, 6])\n"
          ],
          "name": "stdout"
        },
        {
          "output_type": "display_data",
          "data": {
            "image/png": "[encoded data removed]",
            "text/plain": [
              "<Figure size 1080x1080 with 1 Axes>"
            ]
          },
          "metadata": {
            "tags": []
          }
        }
      ]
    },
    {
      "cell_type": "markdown",
      "metadata": {
        "id": "xOMdLk_TKmva",
        "colab_type": "text"
      },
      "source": [
        "## Neural Net"
      ]
    },
    {
      "cell_type": "code",
      "metadata": {
        "id": "db0qkdYJKmvd",
        "colab_type": "code",
        "colab": {}
      },
      "source": [
        "import torch.nn as nn\n",
        "import torch.nn.functional as F\n",
        "from torch.autograd import Variable\n",
        "\n",
        "class Network(nn.Module):\n",
        "    def __init__(self):\n",
        "        super().__init__()\n",
        "        \n",
        "        self.conv1 = nn.Conv2d(in_channels=1,out_channels=6,kernel_size=5)\n",
        "        self.conv2 = nn.Conv2d(in_channels=6 , out_channels=12 , kernel_size=5)\n",
        "        #we increase the number of output channels\n",
        "\n",
        "        self.fc1 = nn.Linear(in_features=12*4*4,out_features=120)\n",
        "        self.fc2 = nn.Linear(in_features=120,out_features=60)\n",
        "        self.out = nn.Linear(in_features=60,out_features=10)\n",
        "        #we descrease the number of nodes per layer\n",
        "\n",
        "        #dont have to mention softmax, cuz categorical crossentropy \n",
        "        #select korlei eita selecet hoye jay\n",
        "    \n",
        "    def forward(self, x):\n",
        "        ##implement forward method\n",
        "        return x"
      ],
      "execution_count": 0,
      "outputs": []
    },
    {
      "cell_type": "code",
      "metadata": {
        "id": "yvMJPf7bKmvl",
        "colab_type": "code",
        "colab": {}
      },
      "source": [
        "network = Network()"
      ],
      "execution_count": 0,
      "outputs": []
    },
    {
      "cell_type": "code",
      "metadata": {
        "id": "TvpjdUmmKmvr",
        "colab_type": "code",
        "outputId": "0e84a150-ddd1-47ba-e36b-43af5f6136b0",
        "colab": {
          "base_uri": "https://localhost:8080/",
          "height": 136
        }
      },
      "source": [
        "network"
      ],
      "execution_count": 0,
      "outputs": [
        {
          "output_type": "execute_result",
          "data": {
            "text/plain": [
              "Network(\n",
              "  (conv1): Conv2d(1, 6, kernel_size=(5, 5), stride=(1, 1))\n",
              "  (conv2): Conv2d(6, 12, kernel_size=(5, 5), stride=(1, 1))\n",
              "  (fc1): Linear(in_features=192, out_features=120, bias=True)\n",
              "  (fc2): Linear(in_features=120, out_features=60, bias=True)\n",
              "  (out): Linear(in_features=60, out_features=10, bias=True)\n",
              ")"
            ]
          },
          "metadata": {
            "tags": []
          },
          "execution_count": 23
        }
      ]
    },
    {
      "cell_type": "markdown",
      "metadata": {
        "id": "571anUiIGefp",
        "colab_type": "text"
      },
      "source": [
        "Parameter vs Argument: \n",
        "- parament is def fun(**text**), and argument is fun(**'tanny'**);\n",
        "- parameter is the local variable used as placeholder\n",
        "- argument is the actual value we provided"
      ]
    },
    {
      "cell_type": "markdown",
      "metadata": {
        "id": "afs2GG4CJiTF",
        "colab_type": "text"
      },
      "source": [
        "String Representation:\n",
        "- we can override pythons default string representation(of a class) by:\n",
        "```python\n",
        "def __repr__(self):\n",
        "  return 'Custom String'\n",
        "```"
      ]
    },
    {
      "cell_type": "code",
      "metadata": {
        "id": "7l1l3eV5Kmvv",
        "colab_type": "code",
        "outputId": "89ccece8-d8b0-4637-897b-5f27b93d84d7",
        "colab": {
          "base_uri": "https://localhost:8080/",
          "height": 34
        }
      },
      "source": [
        "network.conv1.weight.shape"
      ],
      "execution_count": 0,
      "outputs": [
        {
          "output_type": "execute_result",
          "data": {
            "text/plain": [
              "torch.Size([6, 1, 5, 5])"
            ]
          },
          "metadata": {
            "tags": []
          },
          "execution_count": 24
        }
      ]
    },
    {
      "cell_type": "code",
      "metadata": {
        "id": "OOmj3fnQKmvz",
        "colab_type": "code",
        "outputId": "1a1d84cf-17ca-4808-a4d3-50d6890a7ac4",
        "colab": {
          "base_uri": "https://localhost:8080/",
          "height": 34
        }
      },
      "source": [
        "network.conv2.weight.shape"
      ],
      "execution_count": 0,
      "outputs": [
        {
          "output_type": "execute_result",
          "data": {
            "text/plain": [
              "torch.Size([12, 6, 5, 5])"
            ]
          },
          "metadata": {
            "tags": []
          },
          "execution_count": 25
        }
      ]
    },
    {
      "cell_type": "markdown",
      "metadata": {
        "id": "PLuTOfo2M3gF",
        "colab_type": "text"
      },
      "source": [
        "- There are 12 output channels, for each of the 6 input channels, each filter being of size 5x5.\n",
        "- Another way to say it is: 12 channels for each 6x5x5 filters, considering 6 as the depth of the channel."
      ]
    },
    {
      "cell_type": "code",
      "metadata": {
        "id": "pfhLeF9SKmv6",
        "colab_type": "code",
        "outputId": "b8405719-f8cc-496f-9d08-0433a12d7b8b",
        "colab": {
          "base_uri": "https://localhost:8080/",
          "height": 34
        }
      },
      "source": [
        "network.fc1.weight.shape"
      ],
      "execution_count": 0,
      "outputs": [
        {
          "output_type": "execute_result",
          "data": {
            "text/plain": [
              "torch.Size([120, 192])"
            ]
          },
          "metadata": {
            "tags": []
          },
          "execution_count": 26
        }
      ]
    },
    {
      "cell_type": "code",
      "metadata": {
        "id": "2CY3kw8xKmv-",
        "colab_type": "code",
        "outputId": "b1886204-3f1d-4908-9361-be0795fc5c56",
        "colab": {
          "base_uri": "https://localhost:8080/",
          "height": 34
        }
      },
      "source": [
        "network.fc2.weight.shape"
      ],
      "execution_count": 0,
      "outputs": [
        {
          "output_type": "execute_result",
          "data": {
            "text/plain": [
              "torch.Size([60, 120])"
            ]
          },
          "metadata": {
            "tags": []
          },
          "execution_count": 27
        }
      ]
    },
    {
      "cell_type": "code",
      "metadata": {
        "id": "QYc5kRFKKmwD",
        "colab_type": "code",
        "outputId": "220cb4b5-1aa8-4c7f-970f-8fd8f486f1fb",
        "colab": {
          "base_uri": "https://localhost:8080/",
          "height": 34
        }
      },
      "source": [
        "network.out.weight.shape"
      ],
      "execution_count": 0,
      "outputs": [
        {
          "output_type": "execute_result",
          "data": {
            "text/plain": [
              "torch.Size([10, 60])"
            ]
          },
          "metadata": {
            "tags": []
          },
          "execution_count": 28
        }
      ]
    },
    {
      "cell_type": "code",
      "metadata": {
        "id": "qytaV64XPvyA",
        "colab_type": "code",
        "outputId": "d0a84336-ee3d-456b-c6bc-9e7f3e490071",
        "colab": {
          "base_uri": "https://localhost:8080/",
          "height": 187
        }
      },
      "source": [
        "for param in network.parameters():\n",
        "    print( param.shape)"
      ],
      "execution_count": 0,
      "outputs": [
        {
          "output_type": "stream",
          "text": [
            "torch.Size([6, 1, 5, 5])\n",
            "torch.Size([6])\n",
            "torch.Size([12, 6, 5, 5])\n",
            "torch.Size([12])\n",
            "torch.Size([120, 192])\n",
            "torch.Size([120])\n",
            "torch.Size([60, 120])\n",
            "torch.Size([60])\n",
            "torch.Size([10, 60])\n",
            "torch.Size([10])\n"
          ],
          "name": "stdout"
        }
      ]
    },
    {
      "cell_type": "code",
      "metadata": {
        "id": "we4k2qLnKmwJ",
        "colab_type": "code",
        "outputId": "52329ade-2634-4f2c-bbcf-d75720e93ef9",
        "colab": {
          "base_uri": "https://localhost:8080/",
          "height": 187
        }
      },
      "source": [
        "for name,param in network.named_parameters():\n",
        "    print(name, '\\t\\t' , param.shape)"
      ],
      "execution_count": 0,
      "outputs": [
        {
          "output_type": "stream",
          "text": [
            "conv1.weight \t\t torch.Size([6, 1, 5, 5])\n",
            "conv1.bias \t\t torch.Size([6])\n",
            "conv2.weight \t\t torch.Size([12, 6, 5, 5])\n",
            "conv2.bias \t\t torch.Size([12])\n",
            "fc1.weight \t\t torch.Size([120, 192])\n",
            "fc1.bias \t\t torch.Size([120])\n",
            "fc2.weight \t\t torch.Size([60, 120])\n",
            "fc2.bias \t\t torch.Size([60])\n",
            "out.weight \t\t torch.Size([10, 60])\n",
            "out.bias \t\t torch.Size([10])\n"
          ],
          "name": "stdout"
        }
      ]
    },
    {
      "cell_type": "markdown",
      "metadata": {
        "id": "-gZT5RwERM0T",
        "colab_type": "text"
      },
      "source": [
        "### Linear Layer"
      ]
    },
    {
      "cell_type": "markdown",
      "metadata": {
        "id": "9oYFu586SR1I",
        "colab_type": "text"
      },
      "source": [
        "#### Matmul"
      ]
    },
    {
      "cell_type": "code",
      "metadata": {
        "id": "B4LnztG0RPP0",
        "colab_type": "code",
        "colab": {}
      },
      "source": [
        "input_features = torch.tensor([1,2,3,4],dtype=torch.float32)"
      ],
      "execution_count": 0,
      "outputs": []
    },
    {
      "cell_type": "code",
      "metadata": {
        "id": "lgpmxXRgRPNM",
        "colab_type": "code",
        "colab": {}
      },
      "source": [
        "weight = torch.tensor([\n",
        "                       [1,2,3,4],\n",
        "                       [2,3,4,5],\n",
        "                       [3,4,5,6]\n",
        "], dtype=torch.float32)"
      ],
      "execution_count": 0,
      "outputs": []
    },
    {
      "cell_type": "code",
      "metadata": {
        "id": "OLBPI8kNRPHF",
        "colab_type": "code",
        "outputId": "dc3126de-34dd-4dab-e1af-154c7934c9a4",
        "colab": {
          "base_uri": "https://localhost:8080/",
          "height": 33
        }
      },
      "source": [
        "weight.matmul(input_features)"
      ],
      "execution_count": 0,
      "outputs": [
        {
          "output_type": "execute_result",
          "data": {
            "text/plain": [
              "tensor([30., 40., 50.])"
            ]
          },
          "metadata": {
            "tags": []
          },
          "execution_count": 36
        }
      ]
    },
    {
      "cell_type": "markdown",
      "metadata": {
        "id": "FRKafp_DR9pv",
        "colab_type": "text"
      },
      "source": [
        "This is literally a mapping from a 4d euclidean space, to a 3d euclidean space."
      ]
    },
    {
      "cell_type": "markdown",
      "metadata": {
        "id": "Iq96qpvCSRZe",
        "colab_type": "text"
      },
      "source": [
        "#### by pytorch Linear"
      ]
    },
    {
      "cell_type": "code",
      "metadata": {
        "id": "iFzVcu3VRrKF",
        "colab_type": "code",
        "colab": {}
      },
      "source": [
        "fc = nn.Linear(in_features=4,out_features=3)"
      ],
      "execution_count": 0,
      "outputs": []
    },
    {
      "cell_type": "code",
      "metadata": {
        "id": "qBQpSyZLRrG2",
        "colab_type": "code",
        "outputId": "3bd46ecd-7682-48d4-d35c-f135c811be2d",
        "colab": {
          "base_uri": "https://localhost:8080/",
          "height": 33
        }
      },
      "source": [
        "fc(input_features) ##using randomly initialized weight matrix"
      ],
      "execution_count": 0,
      "outputs": [
        {
          "output_type": "execute_result",
          "data": {
            "text/plain": [
              "tensor([-0.3495,  0.8962, -0.1588], grad_fn=<AddBackward0>)"
            ]
          },
          "metadata": {
            "tags": []
          },
          "execution_count": 40
        }
      ]
    },
    {
      "cell_type": "code",
      "metadata": {
        "id": "xPCDSOvcSQ9m",
        "colab_type": "code",
        "colab": {}
      },
      "source": [
        "fc.weight=nn.Parameter(weight)"
      ],
      "execution_count": 0,
      "outputs": []
    },
    {
      "cell_type": "code",
      "metadata": {
        "id": "zKckNtfeSQzb",
        "colab_type": "code",
        "outputId": "3f740524-726f-4d87-9086-ecb260cf3d10",
        "colab": {
          "base_uri": "https://localhost:8080/",
          "height": 33
        }
      },
      "source": [
        "fc(input_features) #still not exact to our value, cause we have a bias being added by pytorch in Linear"
      ],
      "execution_count": 0,
      "outputs": [
        {
          "output_type": "execute_result",
          "data": {
            "text/plain": [
              "tensor([29.7368, 39.9124, 50.3469], grad_fn=<AddBackward0>)"
            ]
          },
          "metadata": {
            "tags": []
          },
          "execution_count": 42
        }
      ]
    },
    {
      "cell_type": "code",
      "metadata": {
        "id": "7QVIHtPjSynK",
        "colab_type": "code",
        "outputId": "248a97bc-5293-486d-f3e4-e2e655435298",
        "colab": {
          "base_uri": "https://localhost:8080/",
          "height": 33
        }
      },
      "source": [
        "fc = nn.Linear(in_features=4,out_features=3,bias=False)\n",
        "fc.weight=nn.Parameter(weight)\n",
        "fc(input_features) #exact match"
      ],
      "execution_count": 0,
      "outputs": [
        {
          "output_type": "execute_result",
          "data": {
            "text/plain": [
              "tensor([30., 40., 50.], grad_fn=<SqueezeBackward3>)"
            ]
          },
          "metadata": {
            "tags": []
          },
          "execution_count": 43
        }
      ]
    },
    {
      "cell_type": "markdown",
      "metadata": {
        "id": "K8-GAUz6TJaO",
        "colab_type": "text"
      },
      "source": [
        "- In pytoch, calling a class like a function invokes a special funtion called `__call__(input)`. In nn.Module classes, `__call__()` inturn calls the `forward(input)` method for us.\n",
        "- The extra code that pytorch runs under the call method is why we never directly run the forward method, and instead run the class as a function, i.e call the class."
      ]
    },
    {
      "cell_type": "markdown",
      "metadata": {
        "id": "Er4Cz78dU7Ca",
        "colab_type": "text"
      },
      "source": [
        "## Forward method"
      ]
    },
    {
      "cell_type": "markdown",
      "metadata": {
        "id": "cII8UfqytNgA",
        "colab_type": "text"
      },
      "source": [
        "Comparing to OOP, the init has all the attributes, NN attributes are the layers and configs. The transformation/methods are executed in the forward method."
      ]
    },
    {
      "cell_type": "code",
      "metadata": {
        "id": "4vxz04HpU9Hj",
        "colab_type": "code",
        "colab": {}
      },
      "source": [
        "import torch.nn as nn\n",
        "import torch.nn.functional as F\n",
        "from torch.autograd import Variable\n",
        "\n",
        "class Network(nn.Module):\n",
        "    def __init__(self):\n",
        "        super().__init__()\n",
        "        \n",
        "        self.conv1 = nn.Conv2d(in_channels=1,out_channels=6,kernel_size=5)\n",
        "        self.conv2 = nn.Conv2d(in_channels=6 , out_channels=12 , kernel_size=5)\n",
        "        #we increase the number of output channels\n",
        "\n",
        "        self.fc1 = nn.Linear(in_features=12*4*4,out_features=120)\n",
        "        ## number of output channels * h * w of output channel\n",
        "        ## \n",
        "\n",
        "        self.fc2 = nn.Linear(in_features=120,out_features=60)\n",
        "        self.out = nn.Linear(in_features=60,out_features=10)\n",
        "        # we descrease the number of nodes per layer\n",
        "    \n",
        "    def forward(self, t):\n",
        "        ## Convolution layers (with relu and maxpool)\n",
        "        t=F.max_pool2d(F.relu(self.conv1(t)),kernel_size=2,stride=2)\n",
        "        t=F.max_pool2d(F.relu(self.conv2(t)),kernel_size=2,stride=2)\n",
        "\n",
        "        ## Flatten\n",
        "        t=t.reshape(-1,12*4*4)\n",
        "\n",
        "        ## Linear layers\n",
        "        t=F.relu(self.fc1(t))\n",
        "        t=F.relu(self.fc2(t))\n",
        "\n",
        "        ## Output Layer\n",
        "        t=self.out(t)\n",
        "        # t=F.softmax(t,dim=1)\n",
        "        #dont have to mention softmax, cuz categorical crossentropy \n",
        "        #select korlei eita selecet hoye jay\n",
        "\n",
        "        return t"
      ],
      "execution_count": 0,
      "outputs": []
    },
    {
      "cell_type": "markdown",
      "metadata": {
        "id": "UXpActMWuLX3",
        "colab_type": "text"
      },
      "source": [
        "since pooling operations and activation functions do not have weight, we will not refer to them as layers, we will say they are simply operations."
      ]
    },
    {
      "cell_type": "markdown",
      "metadata": {
        "id": "Fv6JFAfF1q8R",
        "colab_type": "text"
      },
      "source": [
        "## Network testing"
      ]
    },
    {
      "cell_type": "code",
      "metadata": {
        "id": "PHOYlO1EwtUr",
        "colab_type": "code",
        "colab": {
          "base_uri": "https://localhost:8080/",
          "height": 34
        },
        "outputId": "7e5d3031-a607-4d19-e5aa-56dd287bf947"
      },
      "source": [
        "torch.set_grad_enabled(False) \n",
        "# turn off dynamic graph creation, cause we arent training yet\n",
        "# the gradient tracking feature is now off"
      ],
      "execution_count": 31,
      "outputs": [
        {
          "output_type": "execute_result",
          "data": {
            "text/plain": [
              "<torch.autograd.grad_mode.set_grad_enabled at 0x7f8d3e5cc588>"
            ]
          },
          "metadata": {
            "tags": []
          },
          "execution_count": 31
        }
      ]
    },
    {
      "cell_type": "code",
      "metadata": {
        "id": "IKM0rfkwws1O",
        "colab_type": "code",
        "colab": {}
      },
      "source": [
        "network = Network()"
      ],
      "execution_count": 0,
      "outputs": []
    },
    {
      "cell_type": "code",
      "metadata": {
        "id": "cmDRxySU1c6N",
        "colab_type": "code",
        "colab": {
          "base_uri": "https://localhost:8080/",
          "height": 34
        },
        "outputId": "9d055d53-98ca-4b1e-e8c5-7c2b516e70a9"
      },
      "source": [
        "image, label = next(iter(train_set))\n",
        "image.shape, label"
      ],
      "execution_count": 34,
      "outputs": [
        {
          "output_type": "execute_result",
          "data": {
            "text/plain": [
              "(torch.Size([1, 28, 28]), 9)"
            ]
          },
          "metadata": {
            "tags": []
          },
          "execution_count": 34
        }
      ]
    },
    {
      "cell_type": "code",
      "metadata": {
        "id": "2use3zg01c3j",
        "colab_type": "code",
        "colab": {
          "base_uri": "https://localhost:8080/",
          "height": 34
        },
        "outputId": "e0e448fe-7bcc-4264-d670-758809153fe0"
      },
      "source": [
        "image.unsqueeze(0).shape #adding a batch dimention"
      ],
      "execution_count": 36,
      "outputs": [
        {
          "output_type": "execute_result",
          "data": {
            "text/plain": [
              "torch.Size([1, 1, 28, 28])"
            ]
          },
          "metadata": {
            "tags": []
          },
          "execution_count": 36
        }
      ]
    },
    {
      "cell_type": "code",
      "metadata": {
        "id": "W6624RJW1lYp",
        "colab_type": "code",
        "colab": {}
      },
      "source": [
        "pred = network(image.unsqueeze(0))"
      ],
      "execution_count": 0,
      "outputs": []
    },
    {
      "cell_type": "code",
      "metadata": {
        "id": "J70i2Yb61lTy",
        "colab_type": "code",
        "colab": {
          "base_uri": "https://localhost:8080/",
          "height": 34
        },
        "outputId": "62994cd7-1469-4314-abb8-64d034edaa1b"
      },
      "source": [
        "pred.shape"
      ],
      "execution_count": 38,
      "outputs": [
        {
          "output_type": "execute_result",
          "data": {
            "text/plain": [
              "torch.Size([1, 10])"
            ]
          },
          "metadata": {
            "tags": []
          },
          "execution_count": 38
        }
      ]
    },
    {
      "cell_type": "code",
      "metadata": {
        "id": "kQx9I6Te2HcE",
        "colab_type": "code",
        "colab": {
          "base_uri": "https://localhost:8080/",
          "height": 54
        },
        "outputId": "4742e718-4ba7-441f-97bd-24203c7f5c78"
      },
      "source": [
        "pred # but these are not probabilities"
      ],
      "execution_count": 42,
      "outputs": [
        {
          "output_type": "execute_result",
          "data": {
            "text/plain": [
              "tensor([[-0.0683, -0.1334, -0.0590, -0.1035,  0.0739,  0.1312,  0.1059,  0.0652, -0.0553,  0.0901]])"
            ]
          },
          "metadata": {
            "tags": []
          },
          "execution_count": 42
        }
      ]
    },
    {
      "cell_type": "code",
      "metadata": {
        "id": "nNFfbqVy2Jk7",
        "colab_type": "code",
        "colab": {
          "base_uri": "https://localhost:8080/",
          "height": 34
        },
        "outputId": "2ee47561-7602-47f7-b621-b5a12e7cf4e0"
      },
      "source": [
        "label"
      ],
      "execution_count": 40,
      "outputs": [
        {
          "output_type": "execute_result",
          "data": {
            "text/plain": [
              "9"
            ]
          },
          "metadata": {
            "tags": []
          },
          "execution_count": 40
        }
      ]
    },
    {
      "cell_type": "code",
      "metadata": {
        "id": "16RiAiuM2Y8U",
        "colab_type": "code",
        "colab": {
          "base_uri": "https://localhost:8080/",
          "height": 54
        },
        "outputId": "e730155b-01e8-461d-ca01-4ed179c05fb7"
      },
      "source": [
        "sp = F.softmax(pred, dim=1) # the network prediction\n",
        "sp"
      ],
      "execution_count": 43,
      "outputs": [
        {
          "output_type": "execute_result",
          "data": {
            "text/plain": [
              "tensor([[0.0926, 0.0867, 0.0934, 0.0894, 0.1067, 0.1130, 0.1102, 0.1058, 0.0938, 0.1085]])"
            ]
          },
          "metadata": {
            "tags": []
          },
          "execution_count": 43
        }
      ]
    },
    {
      "cell_type": "markdown",
      "metadata": {
        "id": "nFFAbMBU206f",
        "colab_type": "text"
      },
      "source": [
        "Most of the classes are close to 10%, because the network is actually guessing(not trained) for the 10 classes."
      ]
    },
    {
      "cell_type": "code",
      "metadata": {
        "id": "39SJkbZK2npr",
        "colab_type": "code",
        "colab": {
          "base_uri": "https://localhost:8080/",
          "height": 34
        },
        "outputId": "87ee4e7a-68e7-454a-b482-df5474feea6a"
      },
      "source": [
        "sp.sum()"
      ],
      "execution_count": 45,
      "outputs": [
        {
          "output_type": "execute_result",
          "data": {
            "text/plain": [
              "tensor(1.0000)"
            ]
          },
          "metadata": {
            "tags": []
          },
          "execution_count": 45
        }
      ]
    },
    {
      "cell_type": "code",
      "metadata": {
        "id": "PY3ipenm2Jin",
        "colab_type": "code",
        "colab": {
          "base_uri": "https://localhost:8080/",
          "height": 34
        },
        "outputId": "1cd047db-1e83-47a7-9726-40d471a37870"
      },
      "source": [
        "sp.argmax(dim=1) # the network prediction"
      ],
      "execution_count": 47,
      "outputs": [
        {
          "output_type": "execute_result",
          "data": {
            "text/plain": [
              "tensor([5])"
            ]
          },
          "metadata": {
            "tags": []
          },
          "execution_count": 47
        }
      ]
    },
    {
      "cell_type": "markdown",
      "metadata": {
        "id": "jQ7oj7aq31J0",
        "colab_type": "text"
      },
      "source": [
        "**Now working with batches**"
      ]
    },
    {
      "cell_type": "code",
      "metadata": {
        "id": "EOpXCseD2Jes",
        "colab_type": "code",
        "colab": {
          "base_uri": "https://localhost:8080/",
          "height": 34
        },
        "outputId": "0b454c96-60b1-4ab3-f9c3-2d48a504ac6e"
      },
      "source": [
        "image, label = next(iter(train_loader))\n",
        "image.shape, label.shape"
      ],
      "execution_count": 49,
      "outputs": [
        {
          "output_type": "execute_result",
          "data": {
            "text/plain": [
              "(torch.Size([128, 1, 28, 28]), torch.Size([128]))"
            ]
          },
          "metadata": {
            "tags": []
          },
          "execution_count": 49
        }
      ]
    },
    {
      "cell_type": "code",
      "metadata": {
        "id": "7yn7jzkH2JZ5",
        "colab_type": "code",
        "colab": {
          "base_uri": "https://localhost:8080/",
          "height": 34
        },
        "outputId": "2f79060d-24b0-494a-c2de-c446961bc606"
      },
      "source": [
        "pred = network(image)\n",
        "pred.shape"
      ],
      "execution_count": 50,
      "outputs": [
        {
          "output_type": "execute_result",
          "data": {
            "text/plain": [
              "torch.Size([128, 10])"
            ]
          },
          "metadata": {
            "tags": []
          },
          "execution_count": 50
        }
      ]
    },
    {
      "cell_type": "code",
      "metadata": {
        "id": "VtFu5gAx4mt1",
        "colab_type": "code",
        "colab": {
          "base_uri": "https://localhost:8080/",
          "height": 141
        },
        "outputId": "544ce114-90c2-4abd-bc64-ca17d27477c2"
      },
      "source": [
        "F.softmax(pred,dim=1)"
      ],
      "execution_count": 54,
      "outputs": [
        {
          "output_type": "execute_result",
          "data": {
            "text/plain": [
              "tensor([[0.0926, 0.0867, 0.0934,  ..., 0.1058, 0.0938, 0.1085],\n",
              "        [0.0927, 0.0860, 0.0932,  ..., 0.1055, 0.0936, 0.1085],\n",
              "        [0.0925, 0.0865, 0.0931,  ..., 0.1059, 0.0944, 0.1087],\n",
              "        ...,\n",
              "        [0.0924, 0.0862, 0.0933,  ..., 0.1053, 0.0932, 0.1080],\n",
              "        [0.0922, 0.0864, 0.0932,  ..., 0.1057, 0.0943, 0.1080],\n",
              "        [0.0928, 0.0865, 0.0933,  ..., 0.1058, 0.0939, 0.1082]])"
            ]
          },
          "metadata": {
            "tags": []
          },
          "execution_count": 54
        }
      ]
    },
    {
      "cell_type": "markdown",
      "metadata": {
        "id": "C50lLk4L4rVN",
        "colab_type": "text"
      },
      "source": [
        "Once again, all are near 10%"
      ]
    },
    {
      "cell_type": "code",
      "metadata": {
        "id": "HeW-9-Ng2JXU",
        "colab_type": "code",
        "colab": {
          "base_uri": "https://localhost:8080/",
          "height": 1000
        },
        "outputId": "12eecf63-b2c2-4c5a-b116-7c947df0db08"
      },
      "source": [
        "list(zip(F.softmax(pred,dim=1).argmax(dim=1), label))"
      ],
      "execution_count": 53,
      "outputs": [
        {
          "output_type": "execute_result",
          "data": {
            "text/plain": [
              "[(tensor(5), tensor(9)),\n",
              " (tensor(5), tensor(0)),\n",
              " (tensor(5), tensor(0)),\n",
              " (tensor(5), tensor(3)),\n",
              " (tensor(5), tensor(0)),\n",
              " (tensor(5), tensor(2)),\n",
              " (tensor(5), tensor(7)),\n",
              " (tensor(5), tensor(2)),\n",
              " (tensor(5), tensor(5)),\n",
              " (tensor(5), tensor(5)),\n",
              " (tensor(5), tensor(0)),\n",
              " (tensor(5), tensor(9)),\n",
              " (tensor(5), tensor(5)),\n",
              " (tensor(5), tensor(5)),\n",
              " (tensor(5), tensor(7)),\n",
              " (tensor(5), tensor(9)),\n",
              " (tensor(5), tensor(1)),\n",
              " (tensor(5), tensor(0)),\n",
              " (tensor(5), tensor(6)),\n",
              " (tensor(5), tensor(4)),\n",
              " (tensor(5), tensor(3)),\n",
              " (tensor(5), tensor(1)),\n",
              " (tensor(5), tensor(4)),\n",
              " (tensor(5), tensor(8)),\n",
              " (tensor(5), tensor(4)),\n",
              " (tensor(5), tensor(3)),\n",
              " (tensor(5), tensor(0)),\n",
              " (tensor(5), tensor(2)),\n",
              " (tensor(5), tensor(4)),\n",
              " (tensor(5), tensor(4)),\n",
              " (tensor(5), tensor(5)),\n",
              " (tensor(5), tensor(3)),\n",
              " (tensor(5), tensor(6)),\n",
              " (tensor(5), tensor(6)),\n",
              " (tensor(5), tensor(0)),\n",
              " (tensor(5), tensor(8)),\n",
              " (tensor(5), tensor(5)),\n",
              " (tensor(5), tensor(2)),\n",
              " (tensor(5), tensor(1)),\n",
              " (tensor(5), tensor(6)),\n",
              " (tensor(5), tensor(6)),\n",
              " (tensor(5), tensor(7)),\n",
              " (tensor(5), tensor(9)),\n",
              " (tensor(5), tensor(5)),\n",
              " (tensor(5), tensor(9)),\n",
              " (tensor(5), tensor(2)),\n",
              " (tensor(5), tensor(7)),\n",
              " (tensor(5), tensor(3)),\n",
              " (tensor(5), tensor(0)),\n",
              " (tensor(5), tensor(3)),\n",
              " (tensor(5), tensor(3)),\n",
              " (tensor(5), tensor(3)),\n",
              " (tensor(5), tensor(7)),\n",
              " (tensor(5), tensor(2)),\n",
              " (tensor(5), tensor(2)),\n",
              " (tensor(5), tensor(6)),\n",
              " (tensor(5), tensor(6)),\n",
              " (tensor(5), tensor(8)),\n",
              " (tensor(5), tensor(3)),\n",
              " (tensor(5), tensor(3)),\n",
              " (tensor(5), tensor(5)),\n",
              " (tensor(5), tensor(0)),\n",
              " (tensor(5), tensor(5)),\n",
              " (tensor(5), tensor(5)),\n",
              " (tensor(5), tensor(0)),\n",
              " (tensor(5), tensor(2)),\n",
              " (tensor(5), tensor(0)),\n",
              " (tensor(5), tensor(0)),\n",
              " (tensor(5), tensor(4)),\n",
              " (tensor(5), tensor(1)),\n",
              " (tensor(5), tensor(3)),\n",
              " (tensor(5), tensor(1)),\n",
              " (tensor(5), tensor(6)),\n",
              " (tensor(5), tensor(3)),\n",
              " (tensor(5), tensor(1)),\n",
              " (tensor(5), tensor(4)),\n",
              " (tensor(5), tensor(4)),\n",
              " (tensor(5), tensor(6)),\n",
              " (tensor(5), tensor(1)),\n",
              " (tensor(5), tensor(9)),\n",
              " (tensor(5), tensor(1)),\n",
              " (tensor(5), tensor(3)),\n",
              " (tensor(5), tensor(5)),\n",
              " (tensor(5), tensor(7)),\n",
              " (tensor(5), tensor(9)),\n",
              " (tensor(5), tensor(7)),\n",
              " (tensor(5), tensor(1)),\n",
              " (tensor(5), tensor(7)),\n",
              " (tensor(5), tensor(9)),\n",
              " (tensor(5), tensor(9)),\n",
              " (tensor(5), tensor(9)),\n",
              " (tensor(5), tensor(3)),\n",
              " (tensor(5), tensor(2)),\n",
              " (tensor(5), tensor(9)),\n",
              " (tensor(5), tensor(3)),\n",
              " (tensor(5), tensor(6)),\n",
              " (tensor(5), tensor(4)),\n",
              " (tensor(5), tensor(1)),\n",
              " (tensor(5), tensor(1)),\n",
              " (tensor(5), tensor(8)),\n",
              " (tensor(5), tensor(8)),\n",
              " (tensor(5), tensor(0)),\n",
              " (tensor(5), tensor(1)),\n",
              " (tensor(5), tensor(1)),\n",
              " (tensor(5), tensor(6)),\n",
              " (tensor(5), tensor(8)),\n",
              " (tensor(5), tensor(1)),\n",
              " (tensor(5), tensor(9)),\n",
              " (tensor(5), tensor(7)),\n",
              " (tensor(5), tensor(8)),\n",
              " (tensor(5), tensor(8)),\n",
              " (tensor(5), tensor(9)),\n",
              " (tensor(5), tensor(6)),\n",
              " (tensor(5), tensor(6)),\n",
              " (tensor(5), tensor(3)),\n",
              " (tensor(5), tensor(1)),\n",
              " (tensor(5), tensor(5)),\n",
              " (tensor(5), tensor(4)),\n",
              " (tensor(5), tensor(6)),\n",
              " (tensor(5), tensor(7)),\n",
              " (tensor(5), tensor(5)),\n",
              " (tensor(5), tensor(5)),\n",
              " (tensor(5), tensor(9)),\n",
              " (tensor(5), tensor(2)),\n",
              " (tensor(5), tensor(2)),\n",
              " (tensor(5), tensor(2)),\n",
              " (tensor(5), tensor(7)),\n",
              " (tensor(5), tensor(6))]"
            ]
          },
          "metadata": {
            "tags": []
          },
          "execution_count": 53
        }
      ]
    },
    {
      "cell_type": "markdown",
      "metadata": {
        "id": "9GEzvcn95OFI",
        "colab_type": "text"
      },
      "source": [
        "Somehow, predicts all images to be the 5th class."
      ]
    },
    {
      "cell_type": "code",
      "metadata": {
        "id": "wHzFVBcD5bmW",
        "colab_type": "code",
        "colab": {
          "base_uri": "https://localhost:8080/",
          "height": 34
        },
        "outputId": "9439cc17-707f-436c-caba-73c5d89aa063"
      },
      "source": [
        "# How many did it get right?\n",
        "F.softmax(pred,dim=1).argmax(dim=1).eq(label).sum()"
      ],
      "execution_count": 56,
      "outputs": [
        {
          "output_type": "execute_result",
          "data": {
            "text/plain": [
              "tensor(14)"
            ]
          },
          "metadata": {
            "tags": []
          },
          "execution_count": 56
        }
      ]
    },
    {
      "cell_type": "code",
      "metadata": {
        "id": "qQHQL8m45z88",
        "colab_type": "code",
        "colab": {
          "base_uri": "https://localhost:8080/",
          "height": 34
        },
        "outputId": "3b3de8a7-9027-4080-a107-7ed8dec0cc77"
      },
      "source": [
        "## double checking\n",
        "(label==5).sum()"
      ],
      "execution_count": 57,
      "outputs": [
        {
          "output_type": "execute_result",
          "data": {
            "text/plain": [
              "tensor(14)"
            ]
          },
          "metadata": {
            "tags": []
          },
          "execution_count": 57
        }
      ]
    },
    {
      "cell_type": "code",
      "metadata": {
        "id": "tbPF1g-z6CCU",
        "colab_type": "code",
        "colab": {}
      },
      "source": [
        "def get_num_correct(preds,labels):\n",
        "  # no softmax used\n",
        "  return preds.argmax(dim=1).eq(labels).sum().item()"
      ],
      "execution_count": 0,
      "outputs": []
    },
    {
      "cell_type": "code",
      "metadata": {
        "id": "g2R6Bc3w6ZHV",
        "colab_type": "code",
        "colab": {
          "base_uri": "https://localhost:8080/",
          "height": 34
        },
        "outputId": "4240193c-0df6-4751-b926-d687916fd4fd"
      },
      "source": [
        "get_num_correct(pred,label)"
      ],
      "execution_count": 61,
      "outputs": [
        {
          "output_type": "execute_result",
          "data": {
            "text/plain": [
              "14"
            ]
          },
          "metadata": {
            "tags": []
          },
          "execution_count": 61
        }
      ]
    },
    {
      "cell_type": "markdown",
      "metadata": {
        "id": "JLpdypMQ9jIy",
        "colab_type": "text"
      },
      "source": [
        "**Must Watch:** https://www.youtube.com/watch?v=cin4YcGBh3Q&list=PLZbbT5o_s2xrfNyHZsM6ufI0iZENK9xgG&index=24\n",
        "- Explains the cnn shapes."
      ]
    },
    {
      "cell_type": "markdown",
      "metadata": {
        "id": "gdr6N2sEBN2X",
        "colab_type": "text"
      },
      "source": [
        "## Test Training"
      ]
    },
    {
      "cell_type": "code",
      "metadata": {
        "id": "OuLywwxrAoqn",
        "colab_type": "code",
        "colab": {}
      },
      "source": [
        "torch.set_grad_enabled(True) #thats what it is by default"
      ],
      "execution_count": 0,
      "outputs": []
    },
    {
      "cell_type": "code",
      "metadata": {
        "id": "ouJBJRLMC3Hr",
        "colab_type": "code",
        "colab": {}
      },
      "source": [
        "pred = network(image)"
      ],
      "execution_count": 0,
      "outputs": []
    },
    {
      "cell_type": "code",
      "metadata": {
        "id": "noS6RQV5BbVG",
        "colab_type": "code",
        "colab": {
          "base_uri": "https://localhost:8080/",
          "height": 34
        },
        "outputId": "efc2d1d6-495f-48b1-b7e2-2b30f243f6fb"
      },
      "source": [
        "label.shape, pred.shape\n",
        "## notice the shapes though"
      ],
      "execution_count": 72,
      "outputs": [
        {
          "output_type": "execute_result",
          "data": {
            "text/plain": [
              "(torch.Size([128]), torch.Size([128, 10]))"
            ]
          },
          "metadata": {
            "tags": []
          },
          "execution_count": 72
        }
      ]
    },
    {
      "cell_type": "code",
      "metadata": {
        "id": "edRZ9UgxBPiW",
        "colab_type": "code",
        "colab": {
          "base_uri": "https://localhost:8080/",
          "height": 34
        },
        "outputId": "a4f4038e-63e0-436c-c9d7-92daa66eaa4c"
      },
      "source": [
        "loss = F.cross_entropy(pred,label)\n",
        "loss.item()"
      ],
      "execution_count": 73,
      "outputs": [
        {
          "output_type": "execute_result",
          "data": {
            "text/plain": [
              "2.307274341583252"
            ]
          },
          "metadata": {
            "tags": []
          },
          "execution_count": 73
        }
      ]
    },
    {
      "cell_type": "markdown",
      "metadata": {
        "id": "dl6FSt_yBsf_",
        "colab_type": "text"
      },
      "source": [
        "### Calculate the gradients"
      ]
    },
    {
      "cell_type": "code",
      "metadata": {
        "id": "y-oeHBukBPf1",
        "colab_type": "code",
        "colab": {
          "base_uri": "https://localhost:8080/",
          "height": 34
        },
        "outputId": "fc3e530d-d735-4855-faba-8bfa025cdf33"
      },
      "source": [
        "print(network.conv1.weight.grad)"
      ],
      "execution_count": 74,
      "outputs": [
        {
          "output_type": "stream",
          "text": [
            "None\n"
          ],
          "name": "stdout"
        }
      ]
    },
    {
      "cell_type": "code",
      "metadata": {
        "id": "Oo4P0uovB2Ux",
        "colab_type": "code",
        "colab": {}
      },
      "source": [
        "loss.backward()"
      ],
      "execution_count": 0,
      "outputs": []
    },
    {
      "cell_type": "code",
      "metadata": {
        "id": "NR-l5aOlB2SH",
        "colab_type": "code",
        "colab": {
          "base_uri": "https://localhost:8080/",
          "height": 34
        },
        "outputId": "888379f3-d374-46be-aa30-b413fe4c8119"
      },
      "source": [
        "network.conv1.weight.grad.shape"
      ],
      "execution_count": 76,
      "outputs": [
        {
          "output_type": "execute_result",
          "data": {
            "text/plain": [
              "torch.Size([6, 1, 5, 5])"
            ]
          },
          "metadata": {
            "tags": []
          },
          "execution_count": 76
        }
      ]
    },
    {
      "cell_type": "markdown",
      "metadata": {
        "id": "f2SFxTzsDb4X",
        "colab_type": "text"
      },
      "source": [
        "### Optimizer"
      ]
    },
    {
      "cell_type": "code",
      "metadata": {
        "id": "zrDRet2rDqNZ",
        "colab_type": "code",
        "colab": {}
      },
      "source": [
        "import torch.optim as optim"
      ],
      "execution_count": 0,
      "outputs": []
    },
    {
      "cell_type": "code",
      "metadata": {
        "id": "i0y7c8F9B2Oc",
        "colab_type": "code",
        "colab": {}
      },
      "source": [
        "optimizer = optim.Adam(network.parameters(), lr=0.01)"
      ],
      "execution_count": 0,
      "outputs": []
    },
    {
      "cell_type": "code",
      "metadata": {
        "id": "jGkIzDK6DmeH",
        "colab_type": "code",
        "colab": {
          "base_uri": "https://localhost:8080/",
          "height": 34
        },
        "outputId": "6edf8faf-e268-4263-eb44-23ce8d3df3ca"
      },
      "source": [
        "loss.item()"
      ],
      "execution_count": 80,
      "outputs": [
        {
          "output_type": "execute_result",
          "data": {
            "text/plain": [
              "2.307274341583252"
            ]
          },
          "metadata": {
            "tags": []
          },
          "execution_count": 80
        }
      ]
    },
    {
      "cell_type": "code",
      "metadata": {
        "id": "_-k-0DLdDmbn",
        "colab_type": "code",
        "colab": {
          "base_uri": "https://localhost:8080/",
          "height": 34
        },
        "outputId": "4563fc7c-d77e-4867-dbce-194b4a554dec"
      },
      "source": [
        "get_num_correct(pred,label)"
      ],
      "execution_count": 81,
      "outputs": [
        {
          "output_type": "execute_result",
          "data": {
            "text/plain": [
              "14"
            ]
          },
          "metadata": {
            "tags": []
          },
          "execution_count": 81
        }
      ]
    },
    {
      "cell_type": "code",
      "metadata": {
        "id": "dEUulqumDmY9",
        "colab_type": "code",
        "colab": {}
      },
      "source": [
        "optimizer.step()"
      ],
      "execution_count": 0,
      "outputs": []
    },
    {
      "cell_type": "code",
      "metadata": {
        "id": "mkaxF-TYEB1w",
        "colab_type": "code",
        "colab": {
          "base_uri": "https://localhost:8080/",
          "height": 34
        },
        "outputId": "82755006-8e03-4af1-8f8b-66a8fefad98f"
      },
      "source": [
        "image.shape"
      ],
      "execution_count": 91,
      "outputs": [
        {
          "output_type": "execute_result",
          "data": {
            "text/plain": [
              "torch.Size([128, 1, 28, 28])"
            ]
          },
          "metadata": {
            "tags": []
          },
          "execution_count": 91
        }
      ]
    },
    {
      "cell_type": "code",
      "metadata": {
        "id": "Y4L7nWrADmWM",
        "colab_type": "code",
        "colab": {
          "base_uri": "https://localhost:8080/",
          "height": 34
        },
        "outputId": "8cc12f89-c40a-446a-9cee-c48dccabe842"
      },
      "source": [
        "### Now check if updated weights helped learn anything\n",
        "pred = network(image)\n",
        "loss = F.cross_entropy(pred,label)\n",
        "loss.item()"
      ],
      "execution_count": 96,
      "outputs": [
        {
          "output_type": "execute_result",
          "data": {
            "text/plain": [
              "2.273145914077759"
            ]
          },
          "metadata": {
            "tags": []
          },
          "execution_count": 96
        }
      ]
    },
    {
      "cell_type": "code",
      "metadata": {
        "id": "y1we3TPWDmTp",
        "colab_type": "code",
        "colab": {
          "base_uri": "https://localhost:8080/",
          "height": 34
        },
        "outputId": "1308b388-3b8f-4cfc-d2ea-e26039e74be0"
      },
      "source": [
        "get_num_correct(pred,label)"
      ],
      "execution_count": 97,
      "outputs": [
        {
          "output_type": "execute_result",
          "data": {
            "text/plain": [
              "26"
            ]
          },
          "metadata": {
            "tags": []
          },
          "execution_count": 97
        }
      ]
    },
    {
      "cell_type": "markdown",
      "metadata": {
        "id": "Lw-2SbKcRr2u",
        "colab_type": "text"
      },
      "source": [
        "## Training"
      ]
    },
    {
      "cell_type": "code",
      "metadata": {
        "id": "rS9tZWBEGRY7",
        "colab_type": "code",
        "colab": {}
      },
      "source": [
        "network = Network()"
      ],
      "execution_count": 0,
      "outputs": []
    },
    {
      "cell_type": "code",
      "metadata": {
        "id": "DJgzq7rlTVXJ",
        "colab_type": "code",
        "colab": {}
      },
      "source": [
        "network = network.to('cuda')"
      ],
      "execution_count": 0,
      "outputs": []
    },
    {
      "cell_type": "code",
      "metadata": {
        "id": "KGWg1aU0KmwV",
        "colab_type": "code",
        "colab": {}
      },
      "source": [
        "num_epochs = 20"
      ],
      "execution_count": 0,
      "outputs": []
    },
    {
      "cell_type": "code",
      "metadata": {
        "id": "qCQzNlrPGDHG",
        "colab_type": "code",
        "colab": {}
      },
      "source": [
        "import torch.optim as optim\n",
        "optimizer = optim.Adam(network.parameters(), lr=0.01)"
      ],
      "execution_count": 0,
      "outputs": []
    },
    {
      "cell_type": "code",
      "metadata": {
        "id": "kFqBvaB3Kmwb",
        "colab_type": "code",
        "colab": {}
      },
      "source": [
        "# #smaller set\n",
        "# train_indices = [i for i in range (15000)]\n",
        "# test_indices = [i for i in range (2500)]\n",
        "# ss = torch.utils.data.sampler.SubsetRandomSampler\n",
        "# train_loader = torch.utils.data.DataLoader(train_set, batch_size=batch_size, sampler=ss(train_indices))\n",
        "# test_loader = torch.utils.data.DataLoader(test_set, batch_size=batch_size, sampler=ss(test_indices))"
      ],
      "execution_count": 0,
      "outputs": []
    },
    {
      "cell_type": "code",
      "metadata": {
        "id": "JD72wbdeIXU7",
        "colab_type": "code",
        "colab": {}
      },
      "source": [
        "def get_num_correct(preds,labels):\n",
        "  return preds.argmax(dim=1).eq(labels).sum().item()"
      ],
      "execution_count": 0,
      "outputs": []
    },
    {
      "cell_type": "code",
      "metadata": {
        "id": "F3k9ctU7Ln1H",
        "colab_type": "code",
        "colab": {}
      },
      "source": [
        "count = 0\n",
        "iteration_list = []\n",
        "\n",
        "train_loss_list = []\n",
        "valid_loss_list = []\n",
        "train_accuracy_list = []\n",
        "valid_accuracy_list = []"
      ],
      "execution_count": 0,
      "outputs": []
    },
    {
      "cell_type": "code",
      "metadata": {
        "id": "oVie9ZC4Kmwi",
        "colab_type": "code",
        "outputId": "ba8370d7-ad70-41ac-f66e-7c6fa168d818",
        "colab": {
          "base_uri": "https://localhost:8080/",
          "height": 872
        }
      },
      "source": [
        "for epoch in range(num_epochs):\n",
        "\n",
        "    total_train_loss = 0\n",
        "    total_train_correct = 0\n",
        "    total_train = 0\n",
        "\n",
        "    for i, data in enumerate(train_loader):\n",
        "\n",
        "        network.train()\n",
        "\n",
        "        inputs, labels = data\n",
        "        inputs = inputs.to('cuda')\n",
        "        labels = labels.to('cuda')\n",
        "\n",
        "        outputs = network(inputs) # Forward propagation\n",
        "        loss = F.cross_entropy(outputs, labels) # Calculate softmax and cross entropy loss\n",
        "        \n",
        "        optimizer.zero_grad()\n",
        "        loss.backward()# Calculating gradients\n",
        "        optimizer.step()# Update parameters\n",
        "        \n",
        "        count += 1\n",
        "        total_train_loss += loss.item()*len(labels)\n",
        "        trloss=loss.item()\n",
        "        total_train_correct += get_num_correct(outputs,labels)\n",
        "        total_train += len(labels)\n",
        "\n",
        "        # TEST LOSS and ACCURACY\n",
        "        if count%50 == 0:\n",
        "            with torch.no_grad():\n",
        "\n",
        "                network.eval() #for dropout, batchnorm type things\n",
        "\n",
        "                total_valid_correct = 0\n",
        "                total_valid = 0\n",
        "                total_valid_loss = 0\n",
        "\n",
        "                for data in test_loader:\n",
        "\n",
        "                    images, labels = data\n",
        "                    images = images.to('cuda')\n",
        "                    labels = labels.to('cuda')\n",
        "\n",
        "                    outputs = network(images)\n",
        "                    loss = F.cross_entropy(outputs, labels)\n",
        "\n",
        "                    total_valid_loss += loss.item()*len(labels)\n",
        "                    vlloss=loss.item()\n",
        "                    total_valid += len(labels)\n",
        "                    total_valid_correct += get_num_correct(outputs, labels)\n",
        "\n",
        "            valid_accuracy = 100 * total_valid_correct / float(total_valid)\n",
        "            train_accuracy = 100 * total_train_correct / float(total_train)\n",
        "\n",
        "            train_loss_list.append(total_train_loss/float(total_train))\n",
        "            valid_loss_list.append(total_valid_loss/float(total_valid))\n",
        "            valid_accuracy_list.append(valid_accuracy)\n",
        "            train_accuracy_list.append(train_accuracy)\n",
        "            iteration_list.append(count)\n",
        "\n",
        "            if count%200 == 0:\n",
        "                print('Iteration/Epoch: {}/{}  Train_Loss: {:.4f} Train_Acc: {:.4f}% Test_Loss: {:.4f}  Test_Acc: {:.4f}%'\n",
        "                      .format(i,epoch+1,train_loss_list[-1],train_accuracy_list[-1],valid_loss_list[-1],valid_accuracy_list[-1]))\n",
        "\n",
        "print('Finished Training')\n",
        "\n",
        "#abar run dile it will continue training"
      ],
      "execution_count": 145,
      "outputs": [
        {
          "output_type": "stream",
          "text": [
            "Iteration/Epoch: 199/1  Train_Loss: 0.7506 Train_Acc: 70.6797% Test_Loss: 0.5603  Test_Acc: 79.3400%\n",
            "Iteration/Epoch: 399/1  Train_Loss: 0.6217 Train_Acc: 76.2129% Test_Loss: 0.4454  Test_Acc: 83.7600%\n",
            "Iteration/Epoch: 130/2  Train_Loss: 0.4270 Train_Acc: 84.4287% Test_Loss: 0.4590  Test_Acc: 83.0500%\n",
            "Iteration/Epoch: 330/2  Train_Loss: 0.4143 Train_Acc: 84.8282% Test_Loss: 0.4168  Test_Acc: 84.4800%\n",
            "Iteration/Epoch: 61/3  Train_Loss: 0.3712 Train_Acc: 86.2651% Test_Loss: 0.3844  Test_Acc: 85.9700%\n",
            "Iteration/Epoch: 261/3  Train_Loss: 0.3656 Train_Acc: 86.3788% Test_Loss: 0.3744  Test_Acc: 85.8000%\n",
            "Iteration/Epoch: 461/3  Train_Loss: 0.3611 Train_Acc: 86.6410% Test_Loss: 0.3938  Test_Acc: 85.3500%\n",
            "Iteration/Epoch: 192/4  Train_Loss: 0.3516 Train_Acc: 87.0547% Test_Loss: 0.3831  Test_Acc: 86.5600%\n",
            "Iteration/Epoch: 392/4  Train_Loss: 0.3441 Train_Acc: 87.3887% Test_Loss: 0.3665  Test_Acc: 87.2400%\n",
            "Iteration/Epoch: 123/5  Train_Loss: 0.3339 Train_Acc: 88.0733% Test_Loss: 0.3620  Test_Acc: 86.8100%\n",
            "Iteration/Epoch: 323/5  Train_Loss: 0.3292 Train_Acc: 88.0449% Test_Loss: 0.3734  Test_Acc: 86.8000%\n",
            "Iteration/Epoch: 54/6  Train_Loss: 0.3261 Train_Acc: 87.9972% Test_Loss: 0.3635  Test_Acc: 86.9900%\n",
            "Iteration/Epoch: 254/6  Train_Loss: 0.3242 Train_Acc: 88.0852% Test_Loss: 0.3745  Test_Acc: 86.8400%\n",
            "Iteration/Epoch: 454/6  Train_Loss: 0.3202 Train_Acc: 88.3242% Test_Loss: 0.3886  Test_Acc: 86.2400%\n",
            "Iteration/Epoch: 185/7  Train_Loss: 0.3196 Train_Acc: 88.0670% Test_Loss: 0.3659  Test_Acc: 87.1800%\n",
            "Iteration/Epoch: 385/7  Train_Loss: 0.3149 Train_Acc: 88.3865% Test_Loss: 0.3668  Test_Acc: 87.4000%\n",
            "Iteration/Epoch: 116/8  Train_Loss: 0.3090 Train_Acc: 88.7153% Test_Loss: 0.3708  Test_Acc: 87.0100%\n",
            "Iteration/Epoch: 316/8  Train_Loss: 0.3098 Train_Acc: 88.7027% Test_Loss: 0.3475  Test_Acc: 87.9800%\n",
            "Iteration/Epoch: 47/9  Train_Loss: 0.3072 Train_Acc: 88.8346% Test_Loss: 0.3606  Test_Acc: 87.9000%\n",
            "Iteration/Epoch: 247/9  Train_Loss: 0.3160 Train_Acc: 88.3159% Test_Loss: 0.3865  Test_Acc: 86.1100%\n",
            "Iteration/Epoch: 447/9  Train_Loss: 0.3131 Train_Acc: 88.5446% Test_Loss: 0.3731  Test_Acc: 87.4100%\n",
            "Iteration/Epoch: 178/10  Train_Loss: 0.3115 Train_Acc: 88.4035% Test_Loss: 0.3629  Test_Acc: 87.2900%\n",
            "Iteration/Epoch: 378/10  Train_Loss: 0.3084 Train_Acc: 88.5801% Test_Loss: 0.3994  Test_Acc: 86.4800%\n",
            "Iteration/Epoch: 109/11  Train_Loss: 0.3049 Train_Acc: 88.6506% Test_Loss: 0.3758  Test_Acc: 87.2100%\n",
            "Iteration/Epoch: 309/11  Train_Loss: 0.3054 Train_Acc: 88.6316% Test_Loss: 0.4024  Test_Acc: 85.5300%\n",
            "Iteration/Epoch: 40/12  Train_Loss: 0.2904 Train_Acc: 89.1006% Test_Loss: 0.3938  Test_Acc: 87.2100%\n",
            "Iteration/Epoch: 240/12  Train_Loss: 0.2999 Train_Acc: 88.8485% Test_Loss: 0.3651  Test_Acc: 87.7900%\n",
            "Iteration/Epoch: 440/12  Train_Loss: 0.2947 Train_Acc: 89.0660% Test_Loss: 0.3548  Test_Acc: 88.0800%\n",
            "Iteration/Epoch: 171/13  Train_Loss: 0.2946 Train_Acc: 88.9580% Test_Loss: 0.3885  Test_Acc: 87.6600%\n",
            "Iteration/Epoch: 371/13  Train_Loss: 0.2964 Train_Acc: 89.1906% Test_Loss: 0.3889  Test_Acc: 86.7300%\n",
            "Iteration/Epoch: 102/14  Train_Loss: 0.2957 Train_Acc: 89.1763% Test_Loss: 0.3723  Test_Acc: 87.0500%\n",
            "Iteration/Epoch: 302/14  Train_Loss: 0.2889 Train_Acc: 89.2997% Test_Loss: 0.3930  Test_Acc: 87.0000%\n",
            "Iteration/Epoch: 33/15  Train_Loss: 0.2963 Train_Acc: 88.8557% Test_Loss: 0.3708  Test_Acc: 87.5600%\n",
            "Iteration/Epoch: 233/15  Train_Loss: 0.2908 Train_Acc: 89.3363% Test_Loss: 0.3599  Test_Acc: 88.2100%\n",
            "Iteration/Epoch: 433/15  Train_Loss: 0.2927 Train_Acc: 89.3361% Test_Loss: 0.3639  Test_Acc: 88.0500%\n",
            "Iteration/Epoch: 164/16  Train_Loss: 0.2863 Train_Acc: 89.3703% Test_Loss: 0.3797  Test_Acc: 87.0500%\n",
            "Iteration/Epoch: 364/16  Train_Loss: 0.2829 Train_Acc: 89.5997% Test_Loss: 0.3894  Test_Acc: 86.4700%\n",
            "Iteration/Epoch: 95/17  Train_Loss: 0.2780 Train_Acc: 90.1530% Test_Loss: 0.3918  Test_Acc: 86.7500%\n",
            "Iteration/Epoch: 295/17  Train_Loss: 0.2808 Train_Acc: 89.8226% Test_Loss: 0.3816  Test_Acc: 88.3800%\n",
            "Iteration/Epoch: 26/18  Train_Loss: 0.2733 Train_Acc: 89.5544% Test_Loss: 0.3954  Test_Acc: 87.3000%\n",
            "Iteration/Epoch: 226/18  Train_Loss: 0.2761 Train_Acc: 89.7130% Test_Loss: 0.3771  Test_Acc: 87.7300%\n",
            "Iteration/Epoch: 426/18  Train_Loss: 0.2833 Train_Acc: 89.7157% Test_Loss: 0.3723  Test_Acc: 88.3000%\n",
            "Iteration/Epoch: 157/19  Train_Loss: 0.2971 Train_Acc: 89.2850% Test_Loss: 0.3861  Test_Acc: 86.7700%\n",
            "Iteration/Epoch: 357/19  Train_Loss: 0.2969 Train_Acc: 89.4488% Test_Loss: 0.3936  Test_Acc: 87.3400%\n",
            "Iteration/Epoch: 88/20  Train_Loss: 0.2824 Train_Acc: 89.4136% Test_Loss: 0.3789  Test_Acc: 87.8000%\n",
            "Iteration/Epoch: 288/20  Train_Loss: 0.2814 Train_Acc: 89.5680% Test_Loss: 0.3805  Test_Acc: 87.5900%\n",
            "Finished Training\n"
          ],
          "name": "stdout"
        }
      ]
    },
    {
      "cell_type": "markdown",
      "metadata": {
        "id": "kgFv5PouYvHr",
        "colab_type": "text"
      },
      "source": [
        "## Visualize"
      ]
    },
    {
      "cell_type": "markdown",
      "metadata": {
        "id": "8D6s4IXvKmwp",
        "colab_type": "text"
      },
      "source": [
        "**If your training loss is much lower than validation loss then this means the network might be overfitting. Solutions to this are to decrease your network size, or to increase dropout. ... If training loss << validation loss , it is overfitting; if roughly training loss = validation loss , it is underfitting.**\n",
        "\n",
        "- Underfitting – Validation and training error high\n",
        "- Overfitting – Validation error is high, training error low\n",
        "- Good fit – Validation error low, slightly higher than the training error\n",
        "- Unknown fit - Validation error low, training error 'high'"
      ]
    },
    {
      "cell_type": "code",
      "metadata": {
        "id": "esq8Ctf6Kmwr",
        "colab_type": "code",
        "outputId": "ee861cdc-df7a-42d4-a66a-a0d0d30a0797",
        "colab": {
          "base_uri": "https://localhost:8080/",
          "height": 572
        }
      },
      "source": [
        "# visualization loss \n",
        "plt.plot(iteration_list,train_loss_list,label='train')\n",
        "plt.plot(iteration_list,valid_loss_list,label='valid')\n",
        "plt.xlabel(\"Number of iteration\")\n",
        "plt.ylabel(\"Loss\")\n",
        "plt.title(\"CNN: Loss vs Number of iteration\")\n",
        "plt.legend()\n",
        "plt.show()\n",
        "\n",
        "# visualization accuracy \n",
        "plt.plot(iteration_list,train_accuracy_list,label='train')\n",
        "plt.plot(iteration_list,valid_accuracy_list,label='valid')\n",
        "plt.xlabel(\"Number of iteration\")\n",
        "plt.ylabel(\"Accuracy\")\n",
        "plt.title(\"CNN: Accuracy vs Number of iteration\")\n",
        "plt.legend()\n",
        "plt.show()"
      ],
      "execution_count": 146,
      "outputs": [
        {
          "output_type": "display_data",
          "data": {
            "image/png": "[encoded data removed]",
            "text/plain": [
              "<Figure size 432x288 with 1 Axes>"
            ]
          },
          "metadata": {
            "tags": []
          }
        },
        {
          "output_type": "display_data",
          "data": {
            "image/png": "[encoded data removed]",
            "text/plain": [
              "<Figure size 432x288 with 1 Axes>"
            ]
          },
          "metadata": {
            "tags": []
          }
        }
      ]
    },
    {
      "cell_type": "markdown",
      "metadata": {
        "id": "AzIj9Kt6aNG9",
        "colab_type": "text"
      },
      "source": [
        "------->   My model is underfitting, it can improve more if the model is improved."
      ]
    },
    {
      "cell_type": "markdown",
      "metadata": {
        "id": "XAgkm4nlYn7H",
        "colab_type": "text"
      },
      "source": [
        "## Prediction (no_grad)"
      ]
    },
    {
      "cell_type": "code",
      "metadata": {
        "id": "W20fHbQjKmww",
        "colab_type": "code",
        "colab": {
          "base_uri": "https://localhost:8080/",
          "height": 34
        },
        "outputId": "f9e5e9d3-1106-4da0-af90-a605f8d6f70f"
      },
      "source": [
        "len(train_set), len(test_set)"
      ],
      "execution_count": 147,
      "outputs": [
        {
          "output_type": "execute_result",
          "data": {
            "text/plain": [
              "(60000, 10000)"
            ]
          },
          "metadata": {
            "tags": []
          },
          "execution_count": 147
        }
      ]
    },
    {
      "cell_type": "code",
      "metadata": {
        "id": "RZL-bJutZBOO",
        "colab_type": "code",
        "colab": {}
      },
      "source": [
        "def get_all_preds(model, loader):\n",
        "  all_preds = torch.tensor([]).to('cuda')\n",
        "  for images, labels in loader:\n",
        "    images = images.to('cuda')\n",
        "    labels = labels.to('cuda')\n",
        "    preds = model(images)\n",
        "    all_preds = torch.cat((all_preds,preds),dim=0) #appending the predictions\n",
        "  return all_preds"
      ],
      "execution_count": 0,
      "outputs": []
    },
    {
      "cell_type": "code",
      "metadata": {
        "id": "GMwwaLQQZBK1",
        "colab_type": "code",
        "colab": {
          "base_uri": "https://localhost:8080/",
          "height": 34
        },
        "outputId": "45987e83-6039-4cd8-dbd4-76d0c64ac969"
      },
      "source": [
        "prediction_loader = torch.utils.data.DataLoader(train_set,batch_size=10000)\n",
        "train_preds = get_all_preds(network,prediction_loader)\n",
        "train_preds.shape"
      ],
      "execution_count": 151,
      "outputs": [
        {
          "output_type": "execute_result",
          "data": {
            "text/plain": [
              "torch.Size([60000, 10])"
            ]
          },
          "metadata": {
            "tags": []
          },
          "execution_count": 151
        }
      ]
    },
    {
      "cell_type": "code",
      "metadata": {
        "id": "RYNxDv8bY_q-",
        "colab_type": "code",
        "colab": {
          "base_uri": "https://localhost:8080/",
          "height": 34
        },
        "outputId": "03918b0b-ed00-4b22-c229-3b125801f7a5"
      },
      "source": [
        "## same thing for validation set\n",
        "prediction_loader = torch.utils.data.DataLoader(test_set,batch_size=10000)\n",
        "valid_preds = get_all_preds(network,prediction_loader)\n",
        "valid_preds.shape"
      ],
      "execution_count": 153,
      "outputs": [
        {
          "output_type": "execute_result",
          "data": {
            "text/plain": [
              "torch.Size([10000, 10])"
            ]
          },
          "metadata": {
            "tags": []
          },
          "execution_count": 153
        }
      ]
    },
    {
      "cell_type": "code",
      "metadata": {
        "id": "2AfnLfnVY_oQ",
        "colab_type": "code",
        "colab": {
          "base_uri": "https://localhost:8080/",
          "height": 34
        },
        "outputId": "8081a2f5-4096-40d8-bfd0-40eef9ef2aa8"
      },
      "source": [
        "print(train_preds.requires_grad)"
      ],
      "execution_count": 154,
      "outputs": [
        {
          "output_type": "stream",
          "text": [
            "True\n"
          ],
          "name": "stdout"
        }
      ]
    },
    {
      "cell_type": "code",
      "metadata": {
        "id": "njjxv7hGY_lW",
        "colab_type": "code",
        "colab": {
          "base_uri": "https://localhost:8080/",
          "height": 34
        },
        "outputId": "3805a1bf-e763-46c8-a1ca-f289af3a742b"
      },
      "source": [
        "print(train_preds.grad)"
      ],
      "execution_count": 156,
      "outputs": [
        {
          "output_type": "stream",
          "text": [
            "None\n"
          ],
          "name": "stdout"
        }
      ]
    },
    {
      "cell_type": "markdown",
      "metadata": {
        "id": "ma4OLp7NcA-I",
        "colab_type": "text"
      },
      "source": [
        "- So we see, although requires grad is True, we did not get grad values, thats because we didnt even call .backward()"
      ]
    },
    {
      "cell_type": "code",
      "metadata": {
        "id": "Y2iDCvedb9S9",
        "colab_type": "code",
        "colab": {
          "base_uri": "https://localhost:8080/",
          "height": 34
        },
        "outputId": "5b6516f2-2db2-420d-e63c-88a81882137a"
      },
      "source": [
        "train_preds.grad_fn \n",
        "#the function that let to the tensors creation\n",
        "#this means, the graph is being tracked\n",
        "#but we shoulnt want this overhead"
      ],
      "execution_count": 158,
      "outputs": [
        {
          "output_type": "execute_result",
          "data": {
            "text/plain": [
              "<CatBackward at 0x7f8d3ab62b00>"
            ]
          },
          "metadata": {
            "tags": []
          },
          "execution_count": 158
        }
      ]
    },
    {
      "cell_type": "code",
      "metadata": {
        "id": "a8QRE-I9cYLX",
        "colab_type": "code",
        "colab": {
          "base_uri": "https://localhost:8080/",
          "height": 52
        },
        "outputId": "e885a55c-e4d7-4be7-b82a-38b3da71ca54"
      },
      "source": [
        "## solution is:\n",
        "## besides separately turning off the grad tracking\n",
        "with torch.no_grad():\n",
        "  prediction_loader = torch.utils.data.DataLoader(train_set,batch_size=10000)\n",
        "  train_preds = get_all_preds(network,prediction_loader)\n",
        "  print(train_preds.shape)\n",
        "  prediction_loader = torch.utils.data.DataLoader(test_set,batch_size=10000)\n",
        "  valid_preds = get_all_preds(network,prediction_loader)\n",
        "  print(valid_preds.shape)"
      ],
      "execution_count": 159,
      "outputs": [
        {
          "output_type": "stream",
          "text": [
            "torch.Size([60000, 10])\n",
            "torch.Size([10000, 10])\n"
          ],
          "name": "stdout"
        }
      ]
    },
    {
      "cell_type": "code",
      "metadata": {
        "colab_type": "code",
        "outputId": "3ff8bc15-05e1-4a99-c480-552049a949e0",
        "id": "iJwdJtIseGNU",
        "colab": {
          "base_uri": "https://localhost:8080/",
          "height": 34
        }
      },
      "source": [
        "print(train_preds.requires_grad)"
      ],
      "execution_count": 165,
      "outputs": [
        {
          "output_type": "stream",
          "text": [
            "False\n"
          ],
          "name": "stdout"
        }
      ]
    },
    {
      "cell_type": "code",
      "metadata": {
        "colab_type": "code",
        "outputId": "1fe2fd82-65f5-48cf-db12-4bcb949de133",
        "id": "Sp9lcp8ieGNk",
        "colab": {
          "base_uri": "https://localhost:8080/",
          "height": 34
        }
      },
      "source": [
        "print(train_preds.grad)"
      ],
      "execution_count": 166,
      "outputs": [
        {
          "output_type": "stream",
          "text": [
            "None\n"
          ],
          "name": "stdout"
        }
      ]
    },
    {
      "cell_type": "code",
      "metadata": {
        "colab_type": "code",
        "outputId": "d744f336-e152-4f9f-b21a-d2f1997861c8",
        "id": "07rgEAkZeGNp",
        "colab": {
          "base_uri": "https://localhost:8080/",
          "height": 34
        }
      },
      "source": [
        "print(train_preds.grad_fn)"
      ],
      "execution_count": 168,
      "outputs": [
        {
          "output_type": "stream",
          "text": [
            "None\n"
          ],
          "name": "stdout"
        }
      ]
    },
    {
      "cell_type": "markdown",
      "metadata": {
        "id": "ffCiXmm0eYLi",
        "colab_type": "text"
      },
      "source": [
        "Another way to turn off grads is \n",
        "```python\n",
        "@torch.no_grad()\n",
        "def get_all_preds(model, loader):\n",
        "  ---\n",
        "  return all_preds\n",
        "```\n",
        "So anytime this function is called, its gradient tracking is going to be locally called off!"
      ]
    },
    {
      "cell_type": "code",
      "metadata": {
        "id": "d6d2-ST2dya6",
        "colab_type": "code",
        "colab": {}
      },
      "source": [
        "train_preds=train_preds.to('cpu')\n",
        "valid_preds=valid_preds.to('cpu')"
      ],
      "execution_count": 0,
      "outputs": []
    },
    {
      "cell_type": "code",
      "metadata": {
        "id": "mV0ehNN6cwo4",
        "colab_type": "code",
        "colab": {
          "base_uri": "https://localhost:8080/",
          "height": 52
        },
        "outputId": "c70e2c78-1a3a-431a-93ba-d3798c26f6fd"
      },
      "source": [
        "print('Train Acc: ',get_num_correct(train_preds,train_set.targets)/len(train_set))\n",
        "print('Valid Acc: ',get_num_correct(valid_preds,test_set.targets)/len(test_set))"
      ],
      "execution_count": 164,
      "outputs": [
        {
          "output_type": "stream",
          "text": [
            "Train Acc:  0.8948833333333334\n",
            "Valid Acc:  0.8769\n"
          ],
          "name": "stdout"
        }
      ]
    },
    {
      "cell_type": "markdown",
      "metadata": {
        "id": "BxWc75cMfAP6",
        "colab_type": "text"
      },
      "source": [
        "## Confusion Matrix"
      ]
    },
    {
      "cell_type": "code",
      "metadata": {
        "id": "zBueyvnCdZyj",
        "colab_type": "code",
        "colab": {}
      },
      "source": [
        "stacked = torch.stack( (train_set.targets,train_preds.argmax(dim=1))  ,dim=1)"
      ],
      "execution_count": 0,
      "outputs": []
    },
    {
      "cell_type": "code",
      "metadata": {
        "id": "loc0CaVofauj",
        "colab_type": "code",
        "colab": {
          "base_uri": "https://localhost:8080/",
          "height": 34
        },
        "outputId": "ea8d3d48-c214-49bf-f883-4dd582a7ce2e"
      },
      "source": [
        "stacked.shape"
      ],
      "execution_count": 170,
      "outputs": [
        {
          "output_type": "execute_result",
          "data": {
            "text/plain": [
              "torch.Size([60000, 2])"
            ]
          },
          "metadata": {
            "tags": []
          },
          "execution_count": 170
        }
      ]
    },
    {
      "cell_type": "code",
      "metadata": {
        "id": "0JroGt2PfcDS",
        "colab_type": "code",
        "colab": {
          "base_uri": "https://localhost:8080/",
          "height": 105
        },
        "outputId": "bdcbe1e6-22ff-4f3c-f6dd-3c147464edc8"
      },
      "source": [
        "stacked[:5]"
      ],
      "execution_count": 171,
      "outputs": [
        {
          "output_type": "execute_result",
          "data": {
            "text/plain": [
              "tensor([[9, 9],\n",
              "        [0, 0],\n",
              "        [0, 0],\n",
              "        [3, 3],\n",
              "        [0, 0]])"
            ]
          },
          "metadata": {
            "tags": []
          },
          "execution_count": 171
        }
      ]
    },
    {
      "cell_type": "code",
      "metadata": {
        "id": "aBxEGDKGfedi",
        "colab_type": "code",
        "colab": {
          "base_uri": "https://localhost:8080/",
          "height": 34
        },
        "outputId": "0fdca7ad-7591-4719-a392-b7cfc433c995"
      },
      "source": [
        "stacked[0].tolist()"
      ],
      "execution_count": 172,
      "outputs": [
        {
          "output_type": "execute_result",
          "data": {
            "text/plain": [
              "[9, 9]"
            ]
          },
          "metadata": {
            "tags": []
          },
          "execution_count": 172
        }
      ]
    },
    {
      "cell_type": "code",
      "metadata": {
        "id": "yOLC3RWffnHJ",
        "colab_type": "code",
        "colab": {
          "base_uri": "https://localhost:8080/",
          "height": 194
        },
        "outputId": "8544beef-bc61-43a9-b4cb-c4a0a9522961"
      },
      "source": [
        "cmt = torch.zeros(10,10,dtype=torch.int64)\n",
        "cmt"
      ],
      "execution_count": 173,
      "outputs": [
        {
          "output_type": "execute_result",
          "data": {
            "text/plain": [
              "tensor([[0, 0, 0, 0, 0, 0, 0, 0, 0, 0],\n",
              "        [0, 0, 0, 0, 0, 0, 0, 0, 0, 0],\n",
              "        [0, 0, 0, 0, 0, 0, 0, 0, 0, 0],\n",
              "        [0, 0, 0, 0, 0, 0, 0, 0, 0, 0],\n",
              "        [0, 0, 0, 0, 0, 0, 0, 0, 0, 0],\n",
              "        [0, 0, 0, 0, 0, 0, 0, 0, 0, 0],\n",
              "        [0, 0, 0, 0, 0, 0, 0, 0, 0, 0],\n",
              "        [0, 0, 0, 0, 0, 0, 0, 0, 0, 0],\n",
              "        [0, 0, 0, 0, 0, 0, 0, 0, 0, 0],\n",
              "        [0, 0, 0, 0, 0, 0, 0, 0, 0, 0]])"
            ]
          },
          "metadata": {
            "tags": []
          },
          "execution_count": 173
        }
      ]
    },
    {
      "cell_type": "code",
      "metadata": {
        "id": "f2oRVu5HfyCS",
        "colab_type": "code",
        "colab": {}
      },
      "source": [
        "for p in stacked:\n",
        "  j,k = p.tolist() #tensor to list\n",
        "  cmt[j,k]+=1"
      ],
      "execution_count": 0,
      "outputs": []
    },
    {
      "cell_type": "code",
      "metadata": {
        "id": "cGk1klbJg9EF",
        "colab_type": "code",
        "colab": {
          "base_uri": "https://localhost:8080/",
          "height": 194
        },
        "outputId": "006491b9-087f-4ee4-e5a7-cba2832c988f"
      },
      "source": [
        "cmt"
      ],
      "execution_count": 177,
      "outputs": [
        {
          "output_type": "execute_result",
          "data": {
            "text/plain": [
              "tensor([[5483,    0,  104,   90,    8,    0,  287,    1,   27,    0],\n",
              "        [  21, 5796,    5,  155,    4,    0,   12,    0,    5,    2],\n",
              "        [  57,    1, 5076,   71,  471,    1,  312,    1,   10,    0],\n",
              "        [ 197,    3,   41, 5589,   88,    0,   74,    0,    6,    2],\n",
              "        [  11,    0,  463,  343, 4928,    0,  241,    5,    8,    1],\n",
              "        [   3,    0,   16,    4,    0, 5675,    0,  171,    6,  125],\n",
              "        [1092,    1,  524,  145,  513,    0, 3671,    1,   53,    0],\n",
              "        [   0,    0,    1,    8,    0,   25,    0, 5739,    2,  225],\n",
              "        [  24,    0,   30,   21,    9,    7,   27,    4, 5873,    5],\n",
              "        [   0,    0,    0,    1,    0,    8,    0,  127,    1, 5863]])"
            ]
          },
          "metadata": {
            "tags": []
          },
          "execution_count": 177
        }
      ]
    },
    {
      "cell_type": "markdown",
      "metadata": {
        "id": "7qg4ktUEhPst",
        "colab_type": "text"
      },
      "source": [
        "## Confusion Matrix II and plot"
      ]
    },
    {
      "cell_type": "code",
      "metadata": {
        "id": "5B1_VWFBg-nY",
        "colab_type": "code",
        "colab": {}
      },
      "source": [
        "from sklearn.metrics import confusion_matrix"
      ],
      "execution_count": 0,
      "outputs": []
    },
    {
      "cell_type": "code",
      "metadata": {
        "id": "c07KzOibhaMy",
        "colab_type": "code",
        "colab": {
          "base_uri": "https://localhost:8080/",
          "height": 212
        },
        "outputId": "e4627adc-eeee-4b0a-daf4-3c8c94263b27"
      },
      "source": [
        "cm = confusion_matrix(train_set.targets, train_preds.argmax(dim=1))\n",
        "print(type(cm))\n",
        "cm"
      ],
      "execution_count": 187,
      "outputs": [
        {
          "output_type": "stream",
          "text": [
            "<class 'numpy.ndarray'>\n"
          ],
          "name": "stdout"
        },
        {
          "output_type": "execute_result",
          "data": {
            "text/plain": [
              "array([[5483,    0,  104,   90,    8,    0,  287,    1,   27,    0],\n",
              "       [  21, 5796,    5,  155,    4,    0,   12,    0,    5,    2],\n",
              "       [  57,    1, 5076,   71,  471,    1,  312,    1,   10,    0],\n",
              "       [ 197,    3,   41, 5589,   88,    0,   74,    0,    6,    2],\n",
              "       [  11,    0,  463,  343, 4928,    0,  241,    5,    8,    1],\n",
              "       [   3,    0,   16,    4,    0, 5675,    0,  171,    6,  125],\n",
              "       [1092,    1,  524,  145,  513,    0, 3671,    1,   53,    0],\n",
              "       [   0,    0,    1,    8,    0,   25,    0, 5739,    2,  225],\n",
              "       [  24,    0,   30,   21,    9,    7,   27,    4, 5873,    5],\n",
              "       [   0,    0,    0,    1,    0,    8,    0,  127,    1, 5863]])"
            ]
          },
          "metadata": {
            "tags": []
          },
          "execution_count": 187
        }
      ]
    },
    {
      "cell_type": "code",
      "metadata": {
        "id": "0spBlvj_hcCH",
        "colab_type": "code",
        "colab": {
          "base_uri": "https://localhost:8080/",
          "height": 34
        },
        "outputId": "67672816-6ab4-4248-d1ae-188f2e4100a3"
      },
      "source": [
        "(cm!=np.array(cmt)).sum() ##so its the same as what we calculated"
      ],
      "execution_count": 191,
      "outputs": [
        {
          "output_type": "execute_result",
          "data": {
            "text/plain": [
              "0"
            ]
          },
          "metadata": {
            "tags": []
          },
          "execution_count": 191
        }
      ]
    },
    {
      "cell_type": "code",
      "metadata": {
        "id": "nIKu-7LeiYvW",
        "colab_type": "code",
        "colab": {
          "base_uri": "https://localhost:8080/",
          "height": 194
        },
        "outputId": "7a92c2e8-3502-4929-d0e1-f66503b0be2d"
      },
      "source": [
        "names = train_set.classes\n",
        "names"
      ],
      "execution_count": 196,
      "outputs": [
        {
          "output_type": "execute_result",
          "data": {
            "text/plain": [
              "['T-shirt/top',\n",
              " 'Trouser',\n",
              " 'Pullover',\n",
              " 'Dress',\n",
              " 'Coat',\n",
              " 'Sandal',\n",
              " 'Shirt',\n",
              " 'Sneaker',\n",
              " 'Bag',\n",
              " 'Ankle boot']"
            ]
          },
          "metadata": {
            "tags": []
          },
          "execution_count": 196
        }
      ]
    },
    {
      "cell_type": "markdown",
      "metadata": {
        "id": "4V2AjVI0lZ2C",
        "colab_type": "text"
      },
      "source": [
        "### Nije korsi"
      ]
    },
    {
      "cell_type": "code",
      "metadata": {
        "id": "dL1tqCn3kJPk",
        "colab_type": "code",
        "colab": {}
      },
      "source": [
        "from sklearn.metrics import confusion_matrix\n",
        "import pandas as pd\n",
        "import seaborn as sn\n",
        "import matplotlib.pyplot as plt\n",
        "%matplotlib inline\n",
        "import numpy as np"
      ],
      "execution_count": 0,
      "outputs": []
    },
    {
      "cell_type": "code",
      "metadata": {
        "id": "RaD10q1qkcOF",
        "colab_type": "code",
        "colab": {
          "base_uri": "https://localhost:8080/",
          "height": 377
        },
        "outputId": "c7f06cfc-2bfc-4ac8-cb57-479e4e14c945"
      },
      "source": [
        "df_cm = pd.DataFrame(cm, columns=names, index = names)\n",
        "df_cm.index.name = 'Actual'\n",
        "df_cm.columns.name = 'Predicted'\n",
        "df_cm"
      ],
      "execution_count": 197,
      "outputs": [
        {
          "output_type": "execute_result",
          "data": {
            "text/html": [
              "<div>\n",
              "<style scoped>\n",
              "    .dataframe tbody tr th:only-of-type {\n",
              "        vertical-align: middle;\n",
              "    }\n",
              "\n",
              "    .dataframe tbody tr th {\n",
              "        vertical-align: top;\n",
              "    }\n",
              "\n",
              "    .dataframe thead th {\n",
              "        text-align: right;\n",
              "    }\n",
              "</style>\n",
              "<table border=\"1\" class=\"dataframe\">\n",
              "  <thead>\n",
              "    <tr style=\"text-align: right;\">\n",
              "      <th>Predicted</th>\n",
              "      <th>T-shirt/top</th>\n",
              "      <th>Trouser</th>\n",
              "      <th>Pullover</th>\n",
              "      <th>Dress</th>\n",
              "      <th>Coat</th>\n",
              "      <th>Sandal</th>\n",
              "      <th>Shirt</th>\n",
              "      <th>Sneaker</th>\n",
              "      <th>Bag</th>\n",
              "      <th>Ankle boot</th>\n",
              "    </tr>\n",
              "    <tr>\n",
              "      <th>Actual</th>\n",
              "      <th></th>\n",
              "      <th></th>\n",
              "      <th></th>\n",
              "      <th></th>\n",
              "      <th></th>\n",
              "      <th></th>\n",
              "      <th></th>\n",
              "      <th></th>\n",
              "      <th></th>\n",
              "      <th></th>\n",
              "    </tr>\n",
              "  </thead>\n",
              "  <tbody>\n",
              "    <tr>\n",
              "      <th>T-shirt/top</th>\n",
              "      <td>5483</td>\n",
              "      <td>0</td>\n",
              "      <td>104</td>\n",
              "      <td>90</td>\n",
              "      <td>8</td>\n",
              "      <td>0</td>\n",
              "      <td>287</td>\n",
              "      <td>1</td>\n",
              "      <td>27</td>\n",
              "      <td>0</td>\n",
              "    </tr>\n",
              "    <tr>\n",
              "      <th>Trouser</th>\n",
              "      <td>21</td>\n",
              "      <td>5796</td>\n",
              "      <td>5</td>\n",
              "      <td>155</td>\n",
              "      <td>4</td>\n",
              "      <td>0</td>\n",
              "      <td>12</td>\n",
              "      <td>0</td>\n",
              "      <td>5</td>\n",
              "      <td>2</td>\n",
              "    </tr>\n",
              "    <tr>\n",
              "      <th>Pullover</th>\n",
              "      <td>57</td>\n",
              "      <td>1</td>\n",
              "      <td>5076</td>\n",
              "      <td>71</td>\n",
              "      <td>471</td>\n",
              "      <td>1</td>\n",
              "      <td>312</td>\n",
              "      <td>1</td>\n",
              "      <td>10</td>\n",
              "      <td>0</td>\n",
              "    </tr>\n",
              "    <tr>\n",
              "      <th>Dress</th>\n",
              "      <td>197</td>\n",
              "      <td>3</td>\n",
              "      <td>41</td>\n",
              "      <td>5589</td>\n",
              "      <td>88</td>\n",
              "      <td>0</td>\n",
              "      <td>74</td>\n",
              "      <td>0</td>\n",
              "      <td>6</td>\n",
              "      <td>2</td>\n",
              "    </tr>\n",
              "    <tr>\n",
              "      <th>Coat</th>\n",
              "      <td>11</td>\n",
              "      <td>0</td>\n",
              "      <td>463</td>\n",
              "      <td>343</td>\n",
              "      <td>4928</td>\n",
              "      <td>0</td>\n",
              "      <td>241</td>\n",
              "      <td>5</td>\n",
              "      <td>8</td>\n",
              "      <td>1</td>\n",
              "    </tr>\n",
              "    <tr>\n",
              "      <th>Sandal</th>\n",
              "      <td>3</td>\n",
              "      <td>0</td>\n",
              "      <td>16</td>\n",
              "      <td>4</td>\n",
              "      <td>0</td>\n",
              "      <td>5675</td>\n",
              "      <td>0</td>\n",
              "      <td>171</td>\n",
              "      <td>6</td>\n",
              "      <td>125</td>\n",
              "    </tr>\n",
              "    <tr>\n",
              "      <th>Shirt</th>\n",
              "      <td>1092</td>\n",
              "      <td>1</td>\n",
              "      <td>524</td>\n",
              "      <td>145</td>\n",
              "      <td>513</td>\n",
              "      <td>0</td>\n",
              "      <td>3671</td>\n",
              "      <td>1</td>\n",
              "      <td>53</td>\n",
              "      <td>0</td>\n",
              "    </tr>\n",
              "    <tr>\n",
              "      <th>Sneaker</th>\n",
              "      <td>0</td>\n",
              "      <td>0</td>\n",
              "      <td>1</td>\n",
              "      <td>8</td>\n",
              "      <td>0</td>\n",
              "      <td>25</td>\n",
              "      <td>0</td>\n",
              "      <td>5739</td>\n",
              "      <td>2</td>\n",
              "      <td>225</td>\n",
              "    </tr>\n",
              "    <tr>\n",
              "      <th>Bag</th>\n",
              "      <td>24</td>\n",
              "      <td>0</td>\n",
              "      <td>30</td>\n",
              "      <td>21</td>\n",
              "      <td>9</td>\n",
              "      <td>7</td>\n",
              "      <td>27</td>\n",
              "      <td>4</td>\n",
              "      <td>5873</td>\n",
              "      <td>5</td>\n",
              "    </tr>\n",
              "    <tr>\n",
              "      <th>Ankle boot</th>\n",
              "      <td>0</td>\n",
              "      <td>0</td>\n",
              "      <td>0</td>\n",
              "      <td>1</td>\n",
              "      <td>0</td>\n",
              "      <td>8</td>\n",
              "      <td>0</td>\n",
              "      <td>127</td>\n",
              "      <td>1</td>\n",
              "      <td>5863</td>\n",
              "    </tr>\n",
              "  </tbody>\n",
              "</table>\n",
              "</div>"
            ],
            "text/plain": [
              "Predicted    T-shirt/top  Trouser  Pullover  ...  Sneaker   Bag  Ankle boot\n",
              "Actual                                       ...                           \n",
              "T-shirt/top         5483        0       104  ...        1    27           0\n",
              "Trouser               21     5796         5  ...        0     5           2\n",
              "Pullover              57        1      5076  ...        1    10           0\n",
              "Dress                197        3        41  ...        0     6           2\n",
              "Coat                  11        0       463  ...        5     8           1\n",
              "Sandal                 3        0        16  ...      171     6         125\n",
              "Shirt               1092        1       524  ...        1    53           0\n",
              "Sneaker                0        0         1  ...     5739     2         225\n",
              "Bag                   24        0        30  ...        4  5873           5\n",
              "Ankle boot             0        0         0  ...      127     1        5863\n",
              "\n",
              "[10 rows x 10 columns]"
            ]
          },
          "metadata": {
            "tags": []
          },
          "execution_count": 197
        }
      ]
    },
    {
      "cell_type": "code",
      "metadata": {
        "id": "MUSbUDEhioMU",
        "colab_type": "code",
        "colab": {
          "base_uri": "https://localhost:8080/",
          "height": 712
        },
        "outputId": "8a815d0f-7bda-4f52-adbe-f93f6575e9ae"
      },
      "source": [
        "plt.figure(figsize=(10,10))\n",
        "sn.set(font_scale=1.4) #for label size\n",
        "sn.heatmap(df_cm, cmap=\"Blues\", annot=True,annot_kws={\"size\": 10},fmt='3g')# font size"
      ],
      "execution_count": 208,
      "outputs": [
        {
          "output_type": "execute_result",
          "data": {
            "text/plain": [
              "<matplotlib.axes._subplots.AxesSubplot at 0x7f8d1d561f28>"
            ]
          },
          "metadata": {
            "tags": []
          },
          "execution_count": 208
        },
        {
          "output_type": "display_data",
          "data": {
            "image/png": "[encoded data removed]",
            "text/plain": [
              "<Figure size 720x720 with 2 Axes>"
            ]
          },
          "metadata": {
            "tags": []
          }
        }
      ]
    },
    {
      "cell_type": "markdown",
      "metadata": {
        "id": "hUeGqvxxldw7",
        "colab_type": "text"
      },
      "source": [
        "### Not nije (better)"
      ]
    },
    {
      "cell_type": "markdown",
      "metadata": {
        "id": "voIiQ1OZmOWu",
        "colab_type": "text"
      },
      "source": [
        "https://deeplizard.com/learn/video/0LhiS6yu2qQ"
      ]
    },
    {
      "cell_type": "code",
      "metadata": {
        "id": "48hnGOlMkvKV",
        "colab_type": "code",
        "colab": {}
      },
      "source": [
        "import itertools\n",
        "import numpy as np\n",
        "import matplotlib.pyplot as plt\n",
        "\n",
        "def plot_confusion_matrix(cm, classes, normalize=False, title='Confusion matrix', cmap=plt.cm.Blues):\n",
        "    if normalize:\n",
        "        cm = cm.astype('float') / cm.sum(axis=1)[:, np.newaxis]\n",
        "        print(\"Normalized confusion matrix\")\n",
        "    else:\n",
        "        print('Confusion matrix, without normalization')\n",
        "\n",
        "    print(cm)\n",
        "    plt.imshow(cm, interpolation='nearest', cmap=cmap)\n",
        "    plt.title(title)\n",
        "    plt.colorbar()\n",
        "    tick_marks = np.arange(len(classes))\n",
        "    plt.xticks(tick_marks, classes, rotation=45)\n",
        "    plt.yticks(tick_marks, classes)\n",
        "\n",
        "    fmt = '.2f' if normalize else 'd'\n",
        "    thresh = cm.max() / 2.\n",
        "    for i, j in itertools.product(range(cm.shape[0]), range(cm.shape[1])):\n",
        "        plt.text(j, i, format(cm[i, j], fmt), horizontalalignment=\"center\", color=\"white\" if cm[i, j] > thresh else \"black\")\n",
        "\n",
        "    plt.tight_layout()\n",
        "    plt.ylabel('True label')\n",
        "    plt.xlabel('Predicted label')"
      ],
      "execution_count": 0,
      "outputs": []
    },
    {
      "cell_type": "code",
      "metadata": {
        "id": "IVwqdGqtmR2S",
        "colab_type": "code",
        "colab": {
          "base_uri": "https://localhost:8080/",
          "height": 913
        },
        "outputId": "0e5f9eb9-5871-422f-d2c5-41ff4ed1835f"
      },
      "source": [
        "plt.figure(figsize=(10,10))\n",
        "plot_confusion_matrix(cm,names)"
      ],
      "execution_count": 209,
      "outputs": [
        {
          "output_type": "stream",
          "text": [
            "Confusion matrix, without normalization\n",
            "[[5483    0  104   90    8    0  287    1   27    0]\n",
            " [  21 5796    5  155    4    0   12    0    5    2]\n",
            " [  57    1 5076   71  471    1  312    1   10    0]\n",
            " [ 197    3   41 5589   88    0   74    0    6    2]\n",
            " [  11    0  463  343 4928    0  241    5    8    1]\n",
            " [   3    0   16    4    0 5675    0  171    6  125]\n",
            " [1092    1  524  145  513    0 3671    1   53    0]\n",
            " [   0    0    1    8    0   25    0 5739    2  225]\n",
            " [  24    0   30   21    9    7   27    4 5873    5]\n",
            " [   0    0    0    1    0    8    0  127    1 5863]]\n"
          ],
          "name": "stdout"
        },
        {
          "output_type": "display_data",
          "data": {
            "image/png": "[encoded data removed]",
            "text/plain": [
              "<Figure size 720x720 with 2 Axes>"
            ]
          },
          "metadata": {
            "tags": []
          }
        }
      ]
    }
  ]
}