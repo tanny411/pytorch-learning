{
  "nbformat": 4,
  "nbformat_minor": 0,
  "metadata": {
    "colab": {
      "name": "Stack vs Concat.ipynb",
      "version": "0.3.2",
      "provenance": [],
      "collapsed_sections": []
    },
    "kernelspec": {
      "name": "python3",
      "display_name": "Python 3"
    }
  },
  "cells": [
    {
      "cell_type": "markdown",
      "metadata": {
        "id": "fVyExhVxpJGu",
        "colab_type": "text"
      },
      "source": [
        "Concatenating joins a sequence of tensors along an **existing exis**, and Stacking joins a sequence of tensors along a **new axis**.\n",
        "\n",
        "We will see it in\n",
        "- pytoch\n",
        "- numpy\n",
        "- tensorflow"
      ]
    },
    {
      "cell_type": "markdown",
      "metadata": {
        "id": "Qm0HSyWKqGSa",
        "colab_type": "text"
      },
      "source": [
        "## adding axis"
      ]
    },
    {
      "cell_type": "code",
      "metadata": {
        "id": "5RpW0yZYo_9R",
        "colab_type": "code",
        "colab": {}
      },
      "source": [
        "import torch\n",
        "t1 = torch.tensor([1,1,1])"
      ],
      "execution_count": 0,
      "outputs": []
    },
    {
      "cell_type": "code",
      "metadata": {
        "id": "Zk_cNRK8pwTI",
        "colab_type": "code",
        "colab": {
          "base_uri": "https://localhost:8080/",
          "height": 34
        },
        "outputId": "7cfd31e9-8a0b-4055-ff56-9c01bbbe5495"
      },
      "source": [
        "t1.unsqueeze(dim=0)"
      ],
      "execution_count": 2,
      "outputs": [
        {
          "output_type": "execute_result",
          "data": {
            "text/plain": [
              "tensor([[1, 1, 1]])"
            ]
          },
          "metadata": {
            "tags": []
          },
          "execution_count": 2
        }
      ]
    },
    {
      "cell_type": "code",
      "metadata": {
        "id": "0foecgagpwh4",
        "colab_type": "code",
        "colab": {
          "base_uri": "https://localhost:8080/",
          "height": 70
        },
        "outputId": "ba5b31b3-f22c-4626-c914-e1edf6b5cd70"
      },
      "source": [
        "t1.unsqueeze(dim=1)"
      ],
      "execution_count": 4,
      "outputs": [
        {
          "output_type": "execute_result",
          "data": {
            "text/plain": [
              "tensor([[1],\n",
              "        [1],\n",
              "        [1]])"
            ]
          },
          "metadata": {
            "tags": []
          },
          "execution_count": 4
        }
      ]
    },
    {
      "cell_type": "code",
      "metadata": {
        "id": "zM56wmXTpy07",
        "colab_type": "code",
        "colab": {
          "base_uri": "https://localhost:8080/",
          "height": 70
        },
        "outputId": "3e9b819e-7a09-41af-d423-637e1c2729dc"
      },
      "source": [
        "print(t1.shape)\n",
        "print(t1.unsqueeze(dim=0).shape)\n",
        "print(t1.unsqueeze(dim=1).shape)"
      ],
      "execution_count": 5,
      "outputs": [
        {
          "output_type": "stream",
          "text": [
            "torch.Size([3])\n",
            "torch.Size([1, 3])\n",
            "torch.Size([3, 1])\n"
          ],
          "name": "stdout"
        }
      ]
    },
    {
      "cell_type": "markdown",
      "metadata": {
        "id": "wnzyf-9mqLiT",
        "colab_type": "text"
      },
      "source": [
        "## in pytorch"
      ]
    },
    {
      "cell_type": "code",
      "metadata": {
        "id": "2ZpIC6Asp7VV",
        "colab_type": "code",
        "colab": {}
      },
      "source": [
        "import torch\n",
        "\n",
        "t1 = torch.tensor([1,1,1])\n",
        "t2 = torch.tensor([2,2,2])\n",
        "t3 = torch.tensor([3,3,3])"
      ],
      "execution_count": 0,
      "outputs": []
    },
    {
      "cell_type": "code",
      "metadata": {
        "id": "keI064G_qOug",
        "colab_type": "code",
        "colab": {
          "base_uri": "https://localhost:8080/",
          "height": 34
        },
        "outputId": "ee66d889-9b54-45ce-ff22-4a2815f65e9d"
      },
      "source": [
        "torch.cat(\n",
        "    (t1,t2,t3)\n",
        "    ,dim=0\n",
        ")"
      ],
      "execution_count": 7,
      "outputs": [
        {
          "output_type": "execute_result",
          "data": {
            "text/plain": [
              "tensor([1, 1, 1, 2, 2, 2, 3, 3, 3])"
            ]
          },
          "metadata": {
            "tags": []
          },
          "execution_count": 7
        }
      ]
    },
    {
      "cell_type": "code",
      "metadata": {
        "id": "UlFvEr5zqO5c",
        "colab_type": "code",
        "colab": {
          "base_uri": "https://localhost:8080/",
          "height": 70
        },
        "outputId": "cc501a67-880f-4731-f7b6-94155e96fb4c"
      },
      "source": [
        "torch.stack(\n",
        "    (t1,t2,t3)\n",
        "    ,dim=0\n",
        ")"
      ],
      "execution_count": 8,
      "outputs": [
        {
          "output_type": "execute_result",
          "data": {
            "text/plain": [
              "tensor([[1, 1, 1],\n",
              "        [2, 2, 2],\n",
              "        [3, 3, 3]])"
            ]
          },
          "metadata": {
            "tags": []
          },
          "execution_count": 8
        }
      ]
    },
    {
      "cell_type": "code",
      "metadata": {
        "id": "8YyAe_9uqRHY",
        "colab_type": "code",
        "colab": {
          "base_uri": "https://localhost:8080/",
          "height": 70
        },
        "outputId": "2e3ae009-c24e-4c88-ee68-5e7c61164fbf"
      },
      "source": [
        "## stacking = new_axis_creation + cat\n",
        "torch.cat(\n",
        "    (\n",
        "         t1.unsqueeze(0)\n",
        "        ,t2.unsqueeze(0)\n",
        "        ,t3.unsqueeze(0)\n",
        "    )\n",
        "    ,dim=0\n",
        ")"
      ],
      "execution_count": 10,
      "outputs": [
        {
          "output_type": "execute_result",
          "data": {
            "text/plain": [
              "tensor([[1, 1, 1],\n",
              "        [2, 2, 2],\n",
              "        [3, 3, 3]])"
            ]
          },
          "metadata": {
            "tags": []
          },
          "execution_count": 10
        }
      ]
    },
    {
      "cell_type": "code",
      "metadata": {
        "id": "pa90r4ckqS_J",
        "colab_type": "code",
        "colab": {
          "base_uri": "https://localhost:8080/",
          "height": 70
        },
        "outputId": "76097ce1-873a-4205-b437-faf331ad610e"
      },
      "source": [
        "torch.stack(\n",
        "    (t1,t2,t3)\n",
        "    ,dim=1\n",
        ")"
      ],
      "execution_count": 11,
      "outputs": [
        {
          "output_type": "execute_result",
          "data": {
            "text/plain": [
              "tensor([[1, 2, 3],\n",
              "        [1, 2, 3],\n",
              "        [1, 2, 3]])"
            ]
          },
          "metadata": {
            "tags": []
          },
          "execution_count": 11
        }
      ]
    },
    {
      "cell_type": "code",
      "metadata": {
        "id": "DwJZENZjqrzM",
        "colab_type": "code",
        "colab": {
          "base_uri": "https://localhost:8080/",
          "height": 70
        },
        "outputId": "843ab852-549a-4e59-e5dd-e3fa214d698d"
      },
      "source": [
        "torch.cat(\n",
        "    (\n",
        "         t1.unsqueeze(1)\n",
        "        ,t2.unsqueeze(1)\n",
        "        ,t3.unsqueeze(1)\n",
        "    )\n",
        "    ,dim=1\n",
        ")"
      ],
      "execution_count": 12,
      "outputs": [
        {
          "output_type": "execute_result",
          "data": {
            "text/plain": [
              "tensor([[1, 2, 3],\n",
              "        [1, 2, 3],\n",
              "        [1, 2, 3]])"
            ]
          },
          "metadata": {
            "tags": []
          },
          "execution_count": 12
        }
      ]
    },
    {
      "cell_type": "markdown",
      "metadata": {
        "id": "rAmjE-YxsGCo",
        "colab_type": "text"
      },
      "source": [
        "## in tensorflow"
      ]
    },
    {
      "cell_type": "code",
      "metadata": {
        "id": "BwARTRKOquRz",
        "colab_type": "code",
        "colab": {}
      },
      "source": [
        "import tensorflow as tf\n",
        "\n",
        "t1 = tf.constant([1,1,1])\n",
        "t2 = tf.constant([2,2,2])\n",
        "t3 = tf.constant([3,3,3])"
      ],
      "execution_count": 0,
      "outputs": []
    },
    {
      "cell_type": "code",
      "metadata": {
        "id": "xGGIg9DYsPs6",
        "colab_type": "code",
        "colab": {
          "base_uri": "https://localhost:8080/",
          "height": 34
        },
        "outputId": "30544ff1-42eb-42c5-9bb7-28feb14b7c50"
      },
      "source": [
        "tf.concat(\n",
        "    (t1,t2,t3)\n",
        "    ,axis=0\n",
        ")"
      ],
      "execution_count": 16,
      "outputs": [
        {
          "output_type": "execute_result",
          "data": {
            "text/plain": [
              "<tf.Tensor 'concat_2:0' shape=(9,) dtype=int32>"
            ]
          },
          "metadata": {
            "tags": []
          },
          "execution_count": 16
        }
      ]
    },
    {
      "cell_type": "code",
      "metadata": {
        "id": "X5z5Ul3SsPrC",
        "colab_type": "code",
        "colab": {
          "base_uri": "https://localhost:8080/",
          "height": 34
        },
        "outputId": "cb2c8a7d-3a5a-4a36-be6f-7372244452b5"
      },
      "source": [
        "tf.stack(\n",
        "    (t1,t2,t3)\n",
        "    ,axis=0\n",
        ")"
      ],
      "execution_count": 17,
      "outputs": [
        {
          "output_type": "execute_result",
          "data": {
            "text/plain": [
              "<tf.Tensor 'stack:0' shape=(3, 3) dtype=int32>"
            ]
          },
          "metadata": {
            "tags": []
          },
          "execution_count": 17
        }
      ]
    },
    {
      "cell_type": "code",
      "metadata": {
        "id": "tVvoqY7asPjL",
        "colab_type": "code",
        "colab": {
          "base_uri": "https://localhost:8080/",
          "height": 34
        },
        "outputId": "2a86e096-b232-49e7-eb84-5d5c485d43d6"
      },
      "source": [
        "tf.concat(\n",
        "    (\n",
        "         tf.expand_dims(t1, 0)\n",
        "        ,tf.expand_dims(t2, 0)\n",
        "        ,tf.expand_dims(t3, 0)\n",
        "    )\n",
        "    ,axis=0\n",
        ")"
      ],
      "execution_count": 18,
      "outputs": [
        {
          "output_type": "execute_result",
          "data": {
            "text/plain": [
              "<tf.Tensor 'concat_3:0' shape=(3, 3) dtype=int32>"
            ]
          },
          "metadata": {
            "tags": []
          },
          "execution_count": 18
        }
      ]
    },
    {
      "cell_type": "code",
      "metadata": {
        "id": "yresyqzlsPnZ",
        "colab_type": "code",
        "colab": {
          "base_uri": "https://localhost:8080/",
          "height": 34
        },
        "outputId": "91c7a4a5-8980-453e-acd3-f13b255fef45"
      },
      "source": [
        "tf.concat(\n",
        "    (\n",
        "         tf.expand_dims(t1, 1)\n",
        "        ,tf.expand_dims(t2, 1)\n",
        "        ,tf.expand_dims(t3, 1)\n",
        "    )    \n",
        "    ,axis=1\n",
        ")"
      ],
      "execution_count": 19,
      "outputs": [
        {
          "output_type": "execute_result",
          "data": {
            "text/plain": [
              "<tf.Tensor 'concat_4:0' shape=(3, 3) dtype=int32>"
            ]
          },
          "metadata": {
            "tags": []
          },
          "execution_count": 19
        }
      ]
    },
    {
      "cell_type": "code",
      "metadata": {
        "id": "uqhrBzSdsPlX",
        "colab_type": "code",
        "colab": {
          "base_uri": "https://localhost:8080/",
          "height": 34
        },
        "outputId": "ae6b2d71-1f9e-4e06-df62-1ab2f8e469c4"
      },
      "source": [
        "tf.stack(\n",
        "    (t1,t2,t3)\n",
        "    ,axis=1\n",
        ")"
      ],
      "execution_count": 20,
      "outputs": [
        {
          "output_type": "execute_result",
          "data": {
            "text/plain": [
              "<tf.Tensor 'stack_1:0' shape=(3, 3) dtype=int32>"
            ]
          },
          "metadata": {
            "tags": []
          },
          "execution_count": 20
        }
      ]
    },
    {
      "cell_type": "markdown",
      "metadata": {
        "id": "gg7b3PZLtZlQ",
        "colab_type": "text"
      },
      "source": [
        "## in numpy"
      ]
    },
    {
      "cell_type": "code",
      "metadata": {
        "id": "v_mLPIyDtPcx",
        "colab_type": "code",
        "colab": {}
      },
      "source": [
        "import numpy as np\n",
        "\n",
        "t1 = np.array([1,1,1])\n",
        "t2 = np.array([2,2,2])\n",
        "t3 = np.array([3,3,3])"
      ],
      "execution_count": 0,
      "outputs": []
    },
    {
      "cell_type": "code",
      "metadata": {
        "id": "4tZmamBfta-G",
        "colab_type": "code",
        "colab": {
          "base_uri": "https://localhost:8080/",
          "height": 34
        },
        "outputId": "aa7425f2-7216-4764-feab-02a3896bd34a"
      },
      "source": [
        "np.concatenate(\n",
        "    (t1,t2,t3)\n",
        "    ,axis=0\n",
        ")"
      ],
      "execution_count": 25,
      "outputs": [
        {
          "output_type": "execute_result",
          "data": {
            "text/plain": [
              "array([1, 1, 1, 2, 2, 2, 3, 3, 3])"
            ]
          },
          "metadata": {
            "tags": []
          },
          "execution_count": 25
        }
      ]
    },
    {
      "cell_type": "code",
      "metadata": {
        "id": "eHy4ryKFta8M",
        "colab_type": "code",
        "colab": {
          "base_uri": "https://localhost:8080/",
          "height": 70
        },
        "outputId": "f23658db-9e77-448c-c811-f2faab915409"
      },
      "source": [
        "np.stack(\n",
        "    (t1,t2,t3)\n",
        "    ,axis=0\n",
        ")"
      ],
      "execution_count": 26,
      "outputs": [
        {
          "output_type": "execute_result",
          "data": {
            "text/plain": [
              "array([[1, 1, 1],\n",
              "       [2, 2, 2],\n",
              "       [3, 3, 3]])"
            ]
          },
          "metadata": {
            "tags": []
          },
          "execution_count": 26
        }
      ]
    },
    {
      "cell_type": "code",
      "metadata": {
        "id": "n7DwrUaIta7A",
        "colab_type": "code",
        "colab": {
          "base_uri": "https://localhost:8080/",
          "height": 70
        },
        "outputId": "3183c275-dcbc-4528-a1f6-3b44486686de"
      },
      "source": [
        "np.concatenate(\n",
        "    (\n",
        "         np.expand_dims(t1, 0)\n",
        "        ,np.expand_dims(t2, 0)\n",
        "        ,np.expand_dims(t3, 0)\n",
        "    )\n",
        "    ,axis=0\n",
        ")"
      ],
      "execution_count": 27,
      "outputs": [
        {
          "output_type": "execute_result",
          "data": {
            "text/plain": [
              "array([[1, 1, 1],\n",
              "       [2, 2, 2],\n",
              "       [3, 3, 3]])"
            ]
          },
          "metadata": {
            "tags": []
          },
          "execution_count": 27
        }
      ]
    },
    {
      "cell_type": "code",
      "metadata": {
        "id": "wDn_st6tta3P",
        "colab_type": "code",
        "colab": {
          "base_uri": "https://localhost:8080/",
          "height": 70
        },
        "outputId": "21e5bab4-fa79-4e68-9fd2-35352f648d72"
      },
      "source": [
        "np.stack(\n",
        "    (t1,t2,t3)\n",
        "    ,axis=1\n",
        ")"
      ],
      "execution_count": 30,
      "outputs": [
        {
          "output_type": "execute_result",
          "data": {
            "text/plain": [
              "array([[1, 2, 3],\n",
              "       [1, 2, 3],\n",
              "       [1, 2, 3]])"
            ]
          },
          "metadata": {
            "tags": []
          },
          "execution_count": 30
        }
      ]
    },
    {
      "cell_type": "code",
      "metadata": {
        "id": "rPnDPv2Utaz8",
        "colab_type": "code",
        "colab": {
          "base_uri": "https://localhost:8080/",
          "height": 70
        },
        "outputId": "2e996619-bc35-4942-e848-ffdbf1e75bb0"
      },
      "source": [
        "np.concatenate(\n",
        "    (\n",
        "         np.expand_dims(t1, 1)\n",
        "        ,np.expand_dims(t2, 1)\n",
        "        ,np.expand_dims(t3, 1)\n",
        "    )\n",
        "    ,axis=1\n",
        ")"
      ],
      "execution_count": 31,
      "outputs": [
        {
          "output_type": "execute_result",
          "data": {
            "text/plain": [
              "array([[1, 2, 3],\n",
              "       [1, 2, 3],\n",
              "       [1, 2, 3]])"
            ]
          },
          "metadata": {
            "tags": []
          },
          "execution_count": 31
        }
      ]
    }
  ]
}