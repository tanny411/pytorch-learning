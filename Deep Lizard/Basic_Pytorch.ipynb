{
  "nbformat": 4,
  "nbformat_minor": 0,
  "metadata": {
    "kernelspec": {
      "name": "python3",
      "display_name": "Python 3"
    },
    "language_info": {
      "codemirror_mode": {
        "name": "ipython",
        "version": 3
      },
      "file_extension": ".py",
      "mimetype": "text/x-python",
      "name": "python",
      "nbconvert_exporter": "python",
      "pygments_lexer": "ipython3",
      "version": "3.5.5"
    },
    "colab": {
      "name": "Basic Pytorch.ipynb",
      "version": "0.3.2",
      "provenance": []
    },
    "accelerator": "GPU"
  },
  "cells": [
    {
      "cell_type": "markdown",
      "metadata": {
        "id": "sE66Eyo6J2o3",
        "colab_type": "text"
      },
      "source": [
        "# See deeplizard blog \n",
        "### Has complete course,  except code\n",
        "### Also is updated"
      ]
    },
    {
      "cell_type": "markdown",
      "metadata": {
        "id": "6PanndJUMrOX",
        "colab_type": "text"
      },
      "source": [
        "## Install\n",
        "- go to pytorch website\n",
        "- select configs\n",
        "- download\n",
        "- no need to download cuda separately, it comes with pytorch"
      ]
    },
    {
      "cell_type": "markdown",
      "metadata": {
        "id": "YVDcozYnNR1F",
        "colab_type": "text"
      },
      "source": [
        "## Pytorch"
      ]
    },
    {
      "cell_type": "code",
      "metadata": {
        "id": "7VqTNcY6J2o7",
        "colab_type": "code",
        "colab": {}
      },
      "source": [
        "import torch\n",
        "import numpy as np"
      ],
      "execution_count": 0,
      "outputs": []
    },
    {
      "cell_type": "code",
      "metadata": {
        "id": "37VHSATKJ2pD",
        "colab_type": "code",
        "outputId": "c8120e22-8102-4b35-fbb0-d83f9f677df4",
        "colab": {
          "base_uri": "https://localhost:8080/",
          "height": 34
        }
      },
      "source": [
        "print(torch.__version__)"
      ],
      "execution_count": 2,
      "outputs": [
        {
          "output_type": "stream",
          "text": [
            "1.1.0\n"
          ],
          "name": "stdout"
        }
      ]
    },
    {
      "cell_type": "code",
      "metadata": {
        "id": "O4hw0G-GJ2pK",
        "colab_type": "code",
        "outputId": "76c7a69c-4182-46ed-941e-b3cad4a61585",
        "colab": {
          "base_uri": "https://localhost:8080/",
          "height": 34
        }
      },
      "source": [
        "torch.cuda.is_available()"
      ],
      "execution_count": 3,
      "outputs": [
        {
          "output_type": "execute_result",
          "data": {
            "text/plain": [
              "True"
            ]
          },
          "metadata": {
            "tags": []
          },
          "execution_count": 3
        }
      ]
    },
    {
      "cell_type": "code",
      "metadata": {
        "id": "NDNgH8vTJ2pR",
        "colab_type": "code",
        "colab": {
          "base_uri": "https://localhost:8080/",
          "height": 34
        },
        "outputId": "51875bbc-d4cd-4f4e-a06b-2965bd827193"
      },
      "source": [
        "#if true\n",
        "torch.version.cuda"
      ],
      "execution_count": 4,
      "outputs": [
        {
          "output_type": "execute_result",
          "data": {
            "text/plain": [
              "'10.0.130'"
            ]
          },
          "metadata": {
            "tags": []
          },
          "execution_count": 4
        }
      ]
    },
    {
      "cell_type": "markdown",
      "metadata": {
        "id": "wxNpQX5NOLih",
        "colab_type": "text"
      },
      "source": [
        "- Cpus have 4,8,16 cores, gpus have thousands of core. A task can only be parallelized upto how many cores there are.\n",
        "- NNs are 'Embarassingly parallel'. meaning it takes little to no effort to break down tasks into similar parallel tasks.\n",
        "- cuda is the software layer that provides an api for the developers. gpu being the hardware layer.\n",
        "- most of pytorch in written in python(thus debugging is easier), at bottleneck points, it drops to c/c++ for performance boosts."
      ]
    },
    {
      "cell_type": "markdown",
      "metadata": {
        "id": "BMys3Z6qQBwl",
        "colab_type": "text"
      },
      "source": [
        "## Using CUDA"
      ]
    },
    {
      "cell_type": "code",
      "metadata": {
        "id": "IHmoFq8XQEM1",
        "colab_type": "code",
        "colab": {
          "base_uri": "https://localhost:8080/",
          "height": 34
        },
        "outputId": "26710c1b-851b-45c0-a265-932f600cee35"
      },
      "source": [
        "t = torch.tensor([1,2,3])\n",
        "t"
      ],
      "execution_count": 5,
      "outputs": [
        {
          "output_type": "execute_result",
          "data": {
            "text/plain": [
              "tensor([1, 2, 3])"
            ]
          },
          "metadata": {
            "tags": []
          },
          "execution_count": 5
        }
      ]
    },
    {
      "cell_type": "code",
      "metadata": {
        "id": "OuMdrR7yQIni",
        "colab_type": "code",
        "colab": {
          "base_uri": "https://localhost:8080/",
          "height": 34
        },
        "outputId": "e443fa8a-9789-4dac-ab70-acfa5cf38eb4"
      },
      "source": [
        "t = t.cuda()\n",
        "t"
      ],
      "execution_count": 6,
      "outputs": [
        {
          "output_type": "execute_result",
          "data": {
            "text/plain": [
              "tensor([1, 2, 3], device='cuda:0')"
            ]
          },
          "metadata": {
            "tags": []
          },
          "execution_count": 6
        }
      ]
    },
    {
      "cell_type": "markdown",
      "metadata": {
        "id": "lT_EBwgnQzYk",
        "colab_type": "text"
      },
      "source": [
        "- Why not run all computations on the gpu?\n",
        "- GPU is only faster in some tasks.\n",
        "- Moving from CPU to GPU is costly, so for simple tasks, the overall cost may become negative.\n",
        "- **Paper**: GPGPU computing (29 Aug 2014)"
      ]
    },
    {
      "cell_type": "markdown",
      "metadata": {
        "id": "Dl53S7JqJ2pX",
        "colab_type": "text"
      },
      "source": [
        "## tensosr = nd-array\n",
        "- rank of a tensor = # of dimensions\n",
        "- also called the number of axes\n",
        "- shape of tensor"
      ]
    },
    {
      "cell_type": "code",
      "metadata": {
        "id": "0CkstBgWSmnE",
        "colab_type": "code",
        "colab": {
          "base_uri": "https://localhost:8080/",
          "height": 34
        },
        "outputId": "a1b8e605-0c19-45fa-f052-ab7f1f28bd9d"
      },
      "source": [
        "## 0-dim tensor, or scalar\n",
        "s = torch.tensor(4)\n",
        "s, s.shape"
      ],
      "execution_count": 7,
      "outputs": [
        {
          "output_type": "execute_result",
          "data": {
            "text/plain": [
              "(tensor(4), torch.Size([]))"
            ]
          },
          "metadata": {
            "tags": []
          },
          "execution_count": 7
        }
      ]
    },
    {
      "cell_type": "code",
      "metadata": {
        "id": "wr77o6yXJ2pY",
        "colab_type": "code",
        "outputId": "8e9545f5-29e9-4120-da0f-3e7f790c538c",
        "colab": {
          "base_uri": "https://localhost:8080/",
          "height": 51
        }
      },
      "source": [
        "ara= [[1,2,3],\n",
        "      [9,7,2]]\n",
        "t = torch.tensor(ara)\n",
        "t"
      ],
      "execution_count": 8,
      "outputs": [
        {
          "output_type": "execute_result",
          "data": {
            "text/plain": [
              "tensor([[1, 2, 3],\n",
              "        [9, 7, 2]])"
            ]
          },
          "metadata": {
            "tags": []
          },
          "execution_count": 8
        }
      ]
    },
    {
      "cell_type": "code",
      "metadata": {
        "id": "aiCbuYA_J2pe",
        "colab_type": "code",
        "outputId": "2aa44770-a06b-4865-fb1a-351baa5fdf74",
        "colab": {
          "base_uri": "https://localhost:8080/",
          "height": 34
        }
      },
      "source": [
        "type(ara)"
      ],
      "execution_count": 9,
      "outputs": [
        {
          "output_type": "execute_result",
          "data": {
            "text/plain": [
              "list"
            ]
          },
          "metadata": {
            "tags": []
          },
          "execution_count": 9
        }
      ]
    },
    {
      "cell_type": "code",
      "metadata": {
        "id": "ENsV-OtlJ2pl",
        "colab_type": "code",
        "outputId": "0bb5aa87-4ca1-4ce8-a85c-881e6b98063f",
        "colab": {
          "base_uri": "https://localhost:8080/",
          "height": 34
        }
      },
      "source": [
        "type(t), t.shape , t.size()"
      ],
      "execution_count": 10,
      "outputs": [
        {
          "output_type": "execute_result",
          "data": {
            "text/plain": [
              "(torch.Tensor, torch.Size([2, 3]), torch.Size([2, 3]))"
            ]
          },
          "metadata": {
            "tags": []
          },
          "execution_count": 10
        }
      ]
    },
    {
      "cell_type": "code",
      "metadata": {
        "id": "7ddVDJ03J2pr",
        "colab_type": "code",
        "outputId": "29fc676d-81e8-4b3e-a238-0600b27462bf",
        "colab": {
          "base_uri": "https://localhost:8080/",
          "height": 68
        }
      },
      "source": [
        "t.reshape(3,2)"
      ],
      "execution_count": 11,
      "outputs": [
        {
          "output_type": "execute_result",
          "data": {
            "text/plain": [
              "tensor([[1, 2],\n",
              "        [3, 9],\n",
              "        [7, 2]])"
            ]
          },
          "metadata": {
            "tags": []
          },
          "execution_count": 11
        }
      ]
    },
    {
      "cell_type": "markdown",
      "metadata": {
        "id": "PNnXGCJfJ2pw",
        "colab_type": "text"
      },
      "source": [
        "## Pytorch Tensor"
      ]
    },
    {
      "cell_type": "code",
      "metadata": {
        "id": "CsiQo4bTJ2p1",
        "colab_type": "code",
        "outputId": "43b36152-4c11-45b6-81c4-119630a99702",
        "colab": {
          "base_uri": "https://localhost:8080/",
          "height": 34
        }
      },
      "source": [
        "t = torch.Tensor()\n",
        "type(t)"
      ],
      "execution_count": 12,
      "outputs": [
        {
          "output_type": "execute_result",
          "data": {
            "text/plain": [
              "torch.Tensor"
            ]
          },
          "metadata": {
            "tags": []
          },
          "execution_count": 12
        }
      ]
    },
    {
      "cell_type": "markdown",
      "metadata": {
        "id": "KwU2stY_J2p-",
        "colab_type": "text"
      },
      "source": [
        "### pytroch tensor attributes\n",
        "- tensors contain uniform datatype\n",
        "- operation between tensors depend on their datatype and device. they must be on same device."
      ]
    },
    {
      "cell_type": "code",
      "metadata": {
        "id": "NI5jJVPRJ2qB",
        "colab_type": "code",
        "outputId": "e23889ee-6b01-49b4-d924-0b86de44bbab",
        "colab": {
          "base_uri": "https://localhost:8080/",
          "height": 68
        }
      },
      "source": [
        "print(t.dtype)\n",
        "print(t.device)\n",
        "print(t.layout)"
      ],
      "execution_count": 14,
      "outputs": [
        {
          "output_type": "stream",
          "text": [
            "torch.float32\n",
            "cpu\n",
            "torch.strided\n"
          ],
          "name": "stdout"
        }
      ]
    },
    {
      "cell_type": "markdown",
      "metadata": {
        "id": "ZkimrIKRhJfx",
        "colab_type": "text"
      },
      "source": [
        "### devices\n",
        "- pytorch supports multiple devices"
      ]
    },
    {
      "cell_type": "code",
      "metadata": {
        "id": "KBhy5XWghLEd",
        "colab_type": "code",
        "colab": {
          "base_uri": "https://localhost:8080/",
          "height": 34
        },
        "outputId": "3ba8df8f-5211-43a9-afd2-b2a81365ff92"
      },
      "source": [
        "device = torch.device('cuda:0')\n",
        "device"
      ],
      "execution_count": 15,
      "outputs": [
        {
          "output_type": "execute_result",
          "data": {
            "text/plain": [
              "device(type='cuda', index=0)"
            ]
          },
          "metadata": {
            "tags": []
          },
          "execution_count": 15
        }
      ]
    },
    {
      "cell_type": "code",
      "metadata": {
        "id": "lbXOfYSChZCo",
        "colab_type": "code",
        "colab": {
          "base_uri": "https://localhost:8080/",
          "height": 34
        },
        "outputId": "940bf996-54b0-42dd-d407-0b77b803dbf9"
      },
      "source": [
        "torch.device('cuda:1') \n",
        "#can;t use it though, cause we dont have more gpu"
      ],
      "execution_count": 16,
      "outputs": [
        {
          "output_type": "execute_result",
          "data": {
            "text/plain": [
              "device(type='cuda', index=1)"
            ]
          },
          "metadata": {
            "tags": []
          },
          "execution_count": 16
        }
      ]
    },
    {
      "cell_type": "markdown",
      "metadata": {
        "id": "VzkYGzynJ2qM",
        "colab_type": "text"
      },
      "source": [
        "### create tensors \n",
        "- 4 ways"
      ]
    },
    {
      "cell_type": "code",
      "metadata": {
        "id": "L6MyfCBIJ2qP",
        "colab_type": "code",
        "colab": {}
      },
      "source": [
        "import numpy as np"
      ],
      "execution_count": 0,
      "outputs": []
    },
    {
      "cell_type": "code",
      "metadata": {
        "id": "htiO90NMJ2qW",
        "colab_type": "code",
        "outputId": "0aed912c-a399-4742-f2c4-880e86c7938e",
        "colab": {
          "base_uri": "https://localhost:8080/",
          "height": 34
        }
      },
      "source": [
        "data = np.array([1,2,3])\n",
        "type(data)"
      ],
      "execution_count": 18,
      "outputs": [
        {
          "output_type": "execute_result",
          "data": {
            "text/plain": [
              "numpy.ndarray"
            ]
          },
          "metadata": {
            "tags": []
          },
          "execution_count": 18
        }
      ]
    },
    {
      "cell_type": "code",
      "metadata": {
        "id": "tXOeORJ0J2qc",
        "colab_type": "code",
        "outputId": "747bd9d3-6ee7-44f0-c116-3ba6c9a9eec3",
        "colab": {
          "base_uri": "https://localhost:8080/",
          "height": 34
        }
      },
      "source": [
        "t1 = torch.Tensor(data) #Tensor is the constructor \n",
        "t1\n",
        "#uses global default dtype (float)"
      ],
      "execution_count": 19,
      "outputs": [
        {
          "output_type": "execute_result",
          "data": {
            "text/plain": [
              "tensor([1., 2., 3.])"
            ]
          },
          "metadata": {
            "tags": []
          },
          "execution_count": 19
        }
      ]
    },
    {
      "cell_type": "code",
      "metadata": {
        "id": "UkysyJcYkMtg",
        "colab_type": "code",
        "colab": {
          "base_uri": "https://localhost:8080/",
          "height": 34
        },
        "outputId": "07b01453-7574-4d76-edbc-d85d3d3e5a85"
      },
      "source": [
        "torch.get_default_dtype()"
      ],
      "execution_count": 28,
      "outputs": [
        {
          "output_type": "execute_result",
          "data": {
            "text/plain": [
              "torch.float32"
            ]
          },
          "metadata": {
            "tags": []
          },
          "execution_count": 28
        }
      ]
    },
    {
      "cell_type": "code",
      "metadata": {
        "id": "MBfyW-GgJ2qj",
        "colab_type": "code",
        "outputId": "8f28bb56-7ef6-45d9-9b4d-1bebaf21f0de",
        "colab": {
          "base_uri": "https://localhost:8080/",
          "height": 34
        }
      },
      "source": [
        "t2 = torch.tensor(data) #tensor is a factory function to create tensors\n",
        "t2, t2.dtype\n",
        "# rest methods use dtype of the data"
      ],
      "execution_count": 21,
      "outputs": [
        {
          "output_type": "execute_result",
          "data": {
            "text/plain": [
              "(tensor([1, 2, 3]), torch.int64)"
            ]
          },
          "metadata": {
            "tags": []
          },
          "execution_count": 21
        }
      ]
    },
    {
      "cell_type": "code",
      "metadata": {
        "id": "mNCD8kXyJ2qt",
        "colab_type": "code",
        "outputId": "d6374fdc-78ca-4052-e05f-52c9f7e58d02",
        "colab": {
          "base_uri": "https://localhost:8080/",
          "height": 34
        }
      },
      "source": [
        "t3 = torch.as_tensor(data) #factory function\n",
        "t3, t3.dtype"
      ],
      "execution_count": 24,
      "outputs": [
        {
          "output_type": "execute_result",
          "data": {
            "text/plain": [
              "(tensor([1, 2, 3]), torch.int64)"
            ]
          },
          "metadata": {
            "tags": []
          },
          "execution_count": 24
        }
      ]
    },
    {
      "cell_type": "code",
      "metadata": {
        "id": "-3qJ4W_3J2q2",
        "colab_type": "code",
        "outputId": "437fdfd7-588e-48b5-c738-736580ef49e3",
        "colab": {
          "base_uri": "https://localhost:8080/",
          "height": 34
        }
      },
      "source": [
        "t4 = torch.from_numpy(data) #factory function\n",
        "t4, t4.dtype"
      ],
      "execution_count": 23,
      "outputs": [
        {
          "output_type": "execute_result",
          "data": {
            "text/plain": [
              "(tensor([1, 2, 3]), torch.int64)"
            ]
          },
          "metadata": {
            "tags": []
          },
          "execution_count": 23
        }
      ]
    },
    {
      "cell_type": "markdown",
      "metadata": {
        "id": "zxGdVMkDJ2q-",
        "colab_type": "text"
      },
      "source": [
        "### other ways\n",
        "- torch.eye(n)\n",
        "- torch.zeros(n,m)\n",
        "- torch.ones(n,m)\n",
        "- torch.rand(n,m)"
      ]
    },
    {
      "cell_type": "code",
      "metadata": {
        "id": "AIcrFJAXJ2rB",
        "colab_type": "code",
        "outputId": "052c085a-65a3-4b29-d36a-de2874335b34",
        "colab": {
          "base_uri": "https://localhost:8080/",
          "height": 34
        }
      },
      "source": [
        "#explicitly setting dtype\n",
        "torch.tensor(data,dtype=torch.float64) #this functionality is not present for the constructor"
      ],
      "execution_count": 29,
      "outputs": [
        {
          "output_type": "execute_result",
          "data": {
            "text/plain": [
              "tensor([1., 2., 3.], dtype=torch.float64)"
            ]
          },
          "metadata": {
            "tags": []
          },
          "execution_count": 29
        }
      ]
    },
    {
      "cell_type": "markdown",
      "metadata": {
        "id": "4GAcR9_XJ2rJ",
        "colab_type": "text"
      },
      "source": [
        "### tensors reaction to changing input data"
      ]
    },
    {
      "cell_type": "code",
      "metadata": {
        "id": "m0Aw-T5QJ2rM",
        "colab_type": "code",
        "outputId": "965e72b0-ed93-4d92-80c4-4a52829ec562",
        "colab": {
          "base_uri": "https://localhost:8080/",
          "height": 102
        }
      },
      "source": [
        "data[0]=data[1]=data[2]=0\n",
        "data , t1 , t2 , t3 , t4"
      ],
      "execution_count": 30,
      "outputs": [
        {
          "output_type": "execute_result",
          "data": {
            "text/plain": [
              "(array([0, 0, 0]),\n",
              " tensor([1., 2., 3.]),\n",
              " tensor([1, 2, 3]),\n",
              " tensor([0, 0, 0]),\n",
              " tensor([0, 0, 0]))"
            ]
          },
          "metadata": {
            "tags": []
          },
          "execution_count": 30
        }
      ]
    },
    {
      "cell_type": "markdown",
      "metadata": {
        "id": "ZjXUc7izJ2rT",
        "colab_type": "text"
      },
      "source": [
        "#### what shit? values changes?\n",
        "- Tensor and tensor **create** new objects\n",
        "- as_tensor, from_numpy **share** memory\n",
        "\n",
        "#### go to option:\n",
        "- torch.tensor()\n",
        "\n",
        "#### for performance:\n",
        "- torch.as_tensor()\n",
        "- because it can accept any array like object, not just numpy array"
      ]
    },
    {
      "cell_type": "markdown",
      "metadata": {
        "id": "j6R9aZ4kJ2rX",
        "colab_type": "text"
      },
      "source": [
        "## Tensor operation type\n",
        "- reshape\n",
        "- elementwise\n",
        "- reduce\n",
        "- access"
      ]
    },
    {
      "cell_type": "markdown",
      "metadata": {
        "id": "lU5TF2xOJ2ra",
        "colab_type": "text"
      },
      "source": [
        "### reshape"
      ]
    },
    {
      "cell_type": "code",
      "metadata": {
        "id": "oim2IGrEJ2rf",
        "colab_type": "code",
        "outputId": "32298899-709f-4b2b-f034-aa25163fd1a4",
        "colab": {
          "base_uri": "https://localhost:8080/",
          "height": 68
        }
      },
      "source": [
        "t=torch.ones(3,4)\n",
        "t"
      ],
      "execution_count": 31,
      "outputs": [
        {
          "output_type": "execute_result",
          "data": {
            "text/plain": [
              "tensor([[1., 1., 1., 1.],\n",
              "        [1., 1., 1., 1.],\n",
              "        [1., 1., 1., 1.]])"
            ]
          },
          "metadata": {
            "tags": []
          },
          "execution_count": 31
        }
      ]
    },
    {
      "cell_type": "code",
      "metadata": {
        "id": "6s7fF25NJ2rl",
        "colab_type": "code",
        "outputId": "face0941-371b-4077-90da-0d59a9718c5a",
        "colab": {
          "base_uri": "https://localhost:8080/",
          "height": 34
        }
      },
      "source": [
        "t.shape"
      ],
      "execution_count": 32,
      "outputs": [
        {
          "output_type": "execute_result",
          "data": {
            "text/plain": [
              "torch.Size([3, 4])"
            ]
          },
          "metadata": {
            "tags": []
          },
          "execution_count": 32
        }
      ]
    },
    {
      "cell_type": "code",
      "metadata": {
        "id": "p5d33wOMJ2rr",
        "colab_type": "code",
        "outputId": "b79aadb8-5b60-493a-8823-730dd79b048d",
        "colab": {
          "base_uri": "https://localhost:8080/",
          "height": 34
        }
      },
      "source": [
        "#number of elements\n",
        "torch.tensor(t.shape).prod() , t.numel()"
      ],
      "execution_count": 33,
      "outputs": [
        {
          "output_type": "execute_result",
          "data": {
            "text/plain": [
              "(tensor(12), 12)"
            ]
          },
          "metadata": {
            "tags": []
          },
          "execution_count": 33
        }
      ]
    },
    {
      "cell_type": "code",
      "metadata": {
        "id": "r3UmDqixJ2r1",
        "colab_type": "code",
        "outputId": "5cc3d99a-f21e-407c-b23c-915f06896354",
        "colab": {
          "base_uri": "https://localhost:8080/",
          "height": 221
        }
      },
      "source": [
        "t.reshape(12,1)"
      ],
      "execution_count": 34,
      "outputs": [
        {
          "output_type": "execute_result",
          "data": {
            "text/plain": [
              "tensor([[1.],\n",
              "        [1.],\n",
              "        [1.],\n",
              "        [1.],\n",
              "        [1.],\n",
              "        [1.],\n",
              "        [1.],\n",
              "        [1.],\n",
              "        [1.],\n",
              "        [1.],\n",
              "        [1.],\n",
              "        [1.]])"
            ]
          },
          "metadata": {
            "tags": []
          },
          "execution_count": 34
        }
      ]
    },
    {
      "cell_type": "code",
      "metadata": {
        "id": "WqRaFd7cJ2sB",
        "colab_type": "code",
        "outputId": "00b555df-7c42-4143-d12d-99b7b4f4d1a4",
        "colab": {
          "base_uri": "https://localhost:8080/",
          "height": 102
        }
      },
      "source": [
        "t.reshape(2,2,3)"
      ],
      "execution_count": 35,
      "outputs": [
        {
          "output_type": "execute_result",
          "data": {
            "text/plain": [
              "tensor([[[1., 1., 1.],\n",
              "         [1., 1., 1.]],\n",
              "\n",
              "        [[1., 1., 1.],\n",
              "         [1., 1., 1.]]])"
            ]
          },
          "metadata": {
            "tags": []
          },
          "execution_count": 35
        }
      ]
    },
    {
      "cell_type": "markdown",
      "metadata": {
        "id": "VwZhSkiGoXEc",
        "colab_type": "text"
      },
      "source": [
        "### Squeeze"
      ]
    },
    {
      "cell_type": "code",
      "metadata": {
        "id": "IFfzRKupJ2sG",
        "colab_type": "code",
        "outputId": "2f7fd1a8-0ca1-4d8a-d061-dd3514452d83",
        "colab": {
          "base_uri": "https://localhost:8080/",
          "height": 54
        }
      },
      "source": [
        "#squeezing removes all axes with length of 1\n",
        "\n",
        "p = t.reshape(1,12).squeeze()\n",
        "p , p.shape"
      ],
      "execution_count": 36,
      "outputs": [
        {
          "output_type": "execute_result",
          "data": {
            "text/plain": [
              "(tensor([1., 1., 1., 1., 1., 1., 1., 1., 1., 1., 1., 1.]), torch.Size([12]))"
            ]
          },
          "metadata": {
            "tags": []
          },
          "execution_count": 36
        }
      ]
    },
    {
      "cell_type": "code",
      "metadata": {
        "id": "NPZWUKI4oO6q",
        "colab_type": "code",
        "colab": {
          "base_uri": "https://localhost:8080/",
          "height": 102
        },
        "outputId": "0f7dcbd1-0ed5-4e1b-eabf-3afdc5ae48da"
      },
      "source": [
        "t.reshape(3,1,4)"
      ],
      "execution_count": 38,
      "outputs": [
        {
          "output_type": "execute_result",
          "data": {
            "text/plain": [
              "tensor([[[1., 1., 1., 1.]],\n",
              "\n",
              "        [[1., 1., 1., 1.]],\n",
              "\n",
              "        [[1., 1., 1., 1.]]])"
            ]
          },
          "metadata": {
            "tags": []
          },
          "execution_count": 38
        }
      ]
    },
    {
      "cell_type": "code",
      "metadata": {
        "id": "NqxuP9U8J2sN",
        "colab_type": "code",
        "outputId": "7d95c72f-4237-43a9-ce10-7d58aad26a64",
        "colab": {
          "base_uri": "https://localhost:8080/",
          "height": 68
        }
      },
      "source": [
        "p = t.reshape(3,1,4).squeeze()\n",
        "p , p.shape"
      ],
      "execution_count": 41,
      "outputs": [
        {
          "output_type": "execute_result",
          "data": {
            "text/plain": [
              "(tensor([[1., 1., 1., 1.],\n",
              "         [1., 1., 1., 1.],\n",
              "         [1., 1., 1., 1.]]), torch.Size([3, 4]))"
            ]
          },
          "metadata": {
            "tags": []
          },
          "execution_count": 41
        }
      ]
    },
    {
      "cell_type": "markdown",
      "metadata": {
        "id": "8JFYTiIpofoE",
        "colab_type": "text"
      },
      "source": [
        "### Unsqueeze"
      ]
    },
    {
      "cell_type": "code",
      "metadata": {
        "id": "-V-PeakoJ2sT",
        "colab_type": "code",
        "outputId": "e65ee707-bf96-48af-b638-e71536f3da1e",
        "colab": {
          "base_uri": "https://localhost:8080/",
          "height": 68
        }
      },
      "source": [
        "#unsqueeze removes all the axes with the length of 1\n",
        "q = p.unsqueeze(dim=0)\n",
        "q , q.shape"
      ],
      "execution_count": 42,
      "outputs": [
        {
          "output_type": "execute_result",
          "data": {
            "text/plain": [
              "(tensor([[[1., 1., 1., 1.],\n",
              "          [1., 1., 1., 1.],\n",
              "          [1., 1., 1., 1.]]]), torch.Size([1, 3, 4]))"
            ]
          },
          "metadata": {
            "tags": []
          },
          "execution_count": 42
        }
      ]
    },
    {
      "cell_type": "code",
      "metadata": {
        "id": "7MAPj8iMpCng",
        "colab_type": "code",
        "colab": {
          "base_uri": "https://localhost:8080/",
          "height": 102
        },
        "outputId": "a3b15a2c-cb21-49a2-8742-1bb4877dedb5"
      },
      "source": [
        "r = p.unsqueeze(dim=1)\n",
        "r , r.shape"
      ],
      "execution_count": 43,
      "outputs": [
        {
          "output_type": "execute_result",
          "data": {
            "text/plain": [
              "(tensor([[[1., 1., 1., 1.]],\n",
              " \n",
              "         [[1., 1., 1., 1.]],\n",
              " \n",
              "         [[1., 1., 1., 1.]]]), torch.Size([3, 1, 4]))"
            ]
          },
          "metadata": {
            "tags": []
          },
          "execution_count": 43
        }
      ]
    },
    {
      "cell_type": "markdown",
      "metadata": {
        "id": "RQDSb22vpqXq",
        "colab_type": "text"
      },
      "source": [
        "### Flatten"
      ]
    },
    {
      "cell_type": "code",
      "metadata": {
        "id": "T2Ma7iS9J2sX",
        "colab_type": "code",
        "colab": {}
      },
      "source": [
        "def flatten(t):\n",
        "    return t.reshape(1,-1).squeeze()"
      ],
      "execution_count": 0,
      "outputs": []
    },
    {
      "cell_type": "code",
      "metadata": {
        "id": "cT_j9L5hJ2se",
        "colab_type": "code",
        "outputId": "a9e96f93-cbfe-4471-ebf8-c5326ec5847b",
        "colab": {
          "base_uri": "https://localhost:8080/",
          "height": 34
        }
      },
      "source": [
        "t.shape"
      ],
      "execution_count": 45,
      "outputs": [
        {
          "output_type": "execute_result",
          "data": {
            "text/plain": [
              "torch.Size([3, 4])"
            ]
          },
          "metadata": {
            "tags": []
          },
          "execution_count": 45
        }
      ]
    },
    {
      "cell_type": "code",
      "metadata": {
        "id": "NlHGsdeCJ2sk",
        "colab_type": "code",
        "outputId": "83ce5f54-6b92-43ec-a265-e952f2ae1394",
        "colab": {
          "base_uri": "https://localhost:8080/",
          "height": 54
        }
      },
      "source": [
        "p = flatten(t)\n",
        "p , p.shape"
      ],
      "execution_count": 46,
      "outputs": [
        {
          "output_type": "execute_result",
          "data": {
            "text/plain": [
              "(tensor([1., 1., 1., 1., 1., 1., 1., 1., 1., 1., 1., 1.]), torch.Size([12]))"
            ]
          },
          "metadata": {
            "tags": []
          },
          "execution_count": 46
        }
      ]
    },
    {
      "cell_type": "code",
      "metadata": {
        "id": "lqy5T6oypTrW",
        "colab_type": "code",
        "colab": {
          "base_uri": "https://localhost:8080/",
          "height": 54
        },
        "outputId": "f810fea9-56a5-4525-9f9b-e198114c19a4"
      },
      "source": [
        "## flattening using only reshape operation\n",
        "p = t.reshape(-1)\n",
        "p, p.shape"
      ],
      "execution_count": 48,
      "outputs": [
        {
          "output_type": "execute_result",
          "data": {
            "text/plain": [
              "(tensor([1., 1., 1., 1., 1., 1., 1., 1., 1., 1., 1., 1.]), torch.Size([12]))"
            ]
          },
          "metadata": {
            "tags": []
          },
          "execution_count": 48
        }
      ]
    },
    {
      "cell_type": "markdown",
      "metadata": {
        "id": "V_fF-EVFpr_j",
        "colab_type": "text"
      },
      "source": [
        "### Concatination, Stack"
      ]
    },
    {
      "cell_type": "code",
      "metadata": {
        "id": "xP80xQzoqTlf",
        "colab_type": "code",
        "colab": {
          "base_uri": "https://localhost:8080/",
          "height": 119
        },
        "outputId": "d8db0433-9570-43b8-b643-1f6624226fe1"
      },
      "source": [
        "t1=torch.ones(2,3)\n",
        "t2=2*torch.ones(4,3)\n",
        "torch.cat((t1,t2),dim=0) #only the dim mentioned can have different values in the input tensors"
      ],
      "execution_count": 49,
      "outputs": [
        {
          "output_type": "execute_result",
          "data": {
            "text/plain": [
              "tensor([[1., 1., 1.],\n",
              "        [1., 1., 1.],\n",
              "        [2., 2., 2.],\n",
              "        [2., 2., 2.],\n",
              "        [2., 2., 2.],\n",
              "        [2., 2., 2.]])"
            ]
          },
          "metadata": {
            "tags": []
          },
          "execution_count": 49
        }
      ]
    },
    {
      "cell_type": "code",
      "metadata": {
        "id": "Gp-E3AHrJ2sq",
        "colab_type": "code",
        "colab": {}
      },
      "source": [
        "t1=torch.ones(2,3)\n",
        "t2=2*torch.ones(2,3)\n",
        "t3=3*torch.ones(2,3)\n",
        "\n",
        "t = torch.stack((t1,t2,t3))"
      ],
      "execution_count": 0,
      "outputs": []
    },
    {
      "cell_type": "code",
      "metadata": {
        "id": "htg_PjRVJ2s2",
        "colab_type": "code",
        "outputId": "d41838f8-1e88-43d5-ce0e-2a98dae2a78b",
        "colab": {
          "base_uri": "https://localhost:8080/",
          "height": 153
        }
      },
      "source": [
        "t , t.shape"
      ],
      "execution_count": 51,
      "outputs": [
        {
          "output_type": "execute_result",
          "data": {
            "text/plain": [
              "(tensor([[[1., 1., 1.],\n",
              "          [1., 1., 1.]],\n",
              " \n",
              "         [[2., 2., 2.],\n",
              "          [2., 2., 2.]],\n",
              " \n",
              "         [[3., 3., 3.],\n",
              "          [3., 3., 3.]]]), torch.Size([3, 2, 3]))"
            ]
          },
          "metadata": {
            "tags": []
          },
          "execution_count": 51
        }
      ]
    },
    {
      "cell_type": "markdown",
      "metadata": {
        "id": "DnnQxMIpxNSp",
        "colab_type": "text"
      },
      "source": [
        "### Flatten Images"
      ]
    },
    {
      "cell_type": "code",
      "metadata": {
        "id": "evHWhGPKxc0W",
        "colab_type": "code",
        "colab": {
          "base_uri": "https://localhost:8080/",
          "height": 34
        },
        "outputId": "fc1827f5-9cb3-4438-8742-b4087276ebea"
      },
      "source": [
        "t.shape"
      ],
      "execution_count": 52,
      "outputs": [
        {
          "output_type": "execute_result",
          "data": {
            "text/plain": [
              "torch.Size([3, 2, 3])"
            ]
          },
          "metadata": {
            "tags": []
          },
          "execution_count": 52
        }
      ]
    },
    {
      "cell_type": "code",
      "metadata": {
        "id": "VdpyE1D4xjx3",
        "colab_type": "code",
        "colab": {}
      },
      "source": [
        "t = t.reshape(3,1,2,3) #Imagine it to be a batch Gray Scale image"
      ],
      "execution_count": 0,
      "outputs": []
    },
    {
      "cell_type": "code",
      "metadata": {
        "id": "nSqLgw5TJ2s6",
        "colab_type": "code",
        "outputId": "82920146-25a3-41b7-81ef-0231818ef802",
        "colab": {
          "base_uri": "https://localhost:8080/",
          "height": 68
        }
      },
      "source": [
        "#flatten the images, leaving out the batches\n",
        "p = t.flatten(start_dim=1)\n",
        "p , p.shape"
      ],
      "execution_count": 54,
      "outputs": [
        {
          "output_type": "execute_result",
          "data": {
            "text/plain": [
              "(tensor([[1., 1., 1., 1., 1., 1.],\n",
              "         [2., 2., 2., 2., 2., 2.],\n",
              "         [3., 3., 3., 3., 3., 3.]]), torch.Size([3, 6]))"
            ]
          },
          "metadata": {
            "tags": []
          },
          "execution_count": 54
        }
      ]
    },
    {
      "cell_type": "code",
      "metadata": {
        "id": "13Yih5ayyKqu",
        "colab_type": "code",
        "colab": {
          "base_uri": "https://localhost:8080/",
          "height": 136
        },
        "outputId": "e30ac306-d234-4dd3-9327-c48767f890ff"
      },
      "source": [
        "q = t.flatten(start_dim=2)\n",
        "q, q.shape, t.shape"
      ],
      "execution_count": 55,
      "outputs": [
        {
          "output_type": "execute_result",
          "data": {
            "text/plain": [
              "(tensor([[[1., 1., 1., 1., 1., 1.]],\n",
              " \n",
              "         [[2., 2., 2., 2., 2., 2.]],\n",
              " \n",
              "         [[3., 3., 3., 3., 3., 3.]]]),\n",
              " torch.Size([3, 1, 6]),\n",
              " torch.Size([3, 1, 2, 3]))"
            ]
          },
          "metadata": {
            "tags": []
          },
          "execution_count": 55
        }
      ]
    },
    {
      "cell_type": "markdown",
      "metadata": {
        "id": "doOxYDNPJ2s_",
        "colab_type": "text"
      },
      "source": [
        "### element wise"
      ]
    },
    {
      "cell_type": "code",
      "metadata": {
        "id": "Y0sU1NTBynRc",
        "colab_type": "code",
        "colab": {
          "base_uri": "https://localhost:8080/",
          "height": 34
        },
        "outputId": "5c99a5e1-d8b5-4f95-a47c-6190506497a9"
      },
      "source": [
        "t1.shape, t2.shape"
      ],
      "execution_count": 56,
      "outputs": [
        {
          "output_type": "execute_result",
          "data": {
            "text/plain": [
              "(torch.Size([2, 3]), torch.Size([2, 3]))"
            ]
          },
          "metadata": {
            "tags": []
          },
          "execution_count": 56
        }
      ]
    },
    {
      "cell_type": "code",
      "metadata": {
        "id": "UDbvcjI8J2tB",
        "colab_type": "code",
        "outputId": "ad0a833c-271e-4d37-9299-a92859f03da2",
        "colab": {
          "base_uri": "https://localhost:8080/",
          "height": 51
        }
      },
      "source": [
        "t1 + t2"
      ],
      "execution_count": 57,
      "outputs": [
        {
          "output_type": "execute_result",
          "data": {
            "text/plain": [
              "tensor([[3., 3., 3.],\n",
              "        [3., 3., 3.]])"
            ]
          },
          "metadata": {
            "tags": []
          },
          "execution_count": 57
        }
      ]
    },
    {
      "cell_type": "markdown",
      "metadata": {
        "id": "eVcjYhw2zbUd",
        "colab_type": "text"
      },
      "source": [
        "### broadcasting"
      ]
    },
    {
      "cell_type": "code",
      "metadata": {
        "id": "XW10ZlA5zhcq",
        "colab_type": "code",
        "colab": {
          "base_uri": "https://localhost:8080/",
          "height": 51
        },
        "outputId": "019e5edc-4218-4723-94fa-119136b0ab3b"
      },
      "source": [
        "## we can see what the broadcasted value looks like\n",
        "np.broadcast_to(4,t1.shape)"
      ],
      "execution_count": 59,
      "outputs": [
        {
          "output_type": "execute_result",
          "data": {
            "text/plain": [
              "array([[4, 4, 4],\n",
              "       [4, 4, 4]])"
            ]
          },
          "metadata": {
            "tags": []
          },
          "execution_count": 59
        }
      ]
    },
    {
      "cell_type": "code",
      "metadata": {
        "id": "rF_9UUsLJ2tH",
        "colab_type": "code",
        "outputId": "e5098618-9e10-4574-8877-aeae38d23658",
        "colab": {
          "base_uri": "https://localhost:8080/",
          "height": 85
        }
      },
      "source": [
        "print(t1 + 4)\n",
        "print(t1.add(4))\n",
        "#sub, mul, div"
      ],
      "execution_count": 60,
      "outputs": [
        {
          "output_type": "stream",
          "text": [
            "tensor([[5., 5., 5.],\n",
            "        [5., 5., 5.]])\n",
            "tensor([[5., 5., 5.],\n",
            "        [5., 5., 5.]])\n"
          ],
          "name": "stdout"
        }
      ]
    },
    {
      "cell_type": "code",
      "metadata": {
        "id": "ZaQ62oQZJ2tS",
        "colab_type": "code",
        "colab": {}
      },
      "source": [
        "t4 = torch.tensor([1,2,3] , dtype=torch.float32)"
      ],
      "execution_count": 0,
      "outputs": []
    },
    {
      "cell_type": "code",
      "metadata": {
        "id": "-kJN9LALz_6k",
        "colab_type": "code",
        "colab": {
          "base_uri": "https://localhost:8080/",
          "height": 51
        },
        "outputId": "4ee891f5-aa32-48cd-ff48-0b310fec0c4c"
      },
      "source": [
        "t1, t4"
      ],
      "execution_count": 62,
      "outputs": [
        {
          "output_type": "execute_result",
          "data": {
            "text/plain": [
              "(tensor([[1., 1., 1.],\n",
              "         [1., 1., 1.]]), tensor([1., 2., 3.]))"
            ]
          },
          "metadata": {
            "tags": []
          },
          "execution_count": 62
        }
      ]
    },
    {
      "cell_type": "code",
      "metadata": {
        "id": "S_nDhYxHJ2tc",
        "colab_type": "code",
        "outputId": "ef877baa-39db-458c-86bb-c67808ab095f",
        "colab": {
          "base_uri": "https://localhost:8080/",
          "height": 51
        }
      },
      "source": [
        "t1 + t4 #broadcasting (lower rank tensor is broadcasted to match the higher rank of the tensor)"
      ],
      "execution_count": 63,
      "outputs": [
        {
          "output_type": "execute_result",
          "data": {
            "text/plain": [
              "tensor([[2., 3., 4.],\n",
              "        [2., 3., 4.]])"
            ]
          },
          "metadata": {
            "tags": []
          },
          "execution_count": 63
        }
      ]
    },
    {
      "cell_type": "code",
      "metadata": {
        "id": "bu6jHUlBJ2tj",
        "colab_type": "code",
        "outputId": "82628a37-ebd9-46c2-e7df-3d31ccd81561",
        "colab": {
          "base_uri": "https://localhost:8080/",
          "height": 51
        }
      },
      "source": [
        "np.broadcast_to(t4.numpy(),t1.shape) #this is how it was broadcasted"
      ],
      "execution_count": 64,
      "outputs": [
        {
          "output_type": "execute_result",
          "data": {
            "text/plain": [
              "array([[1., 2., 3.],\n",
              "       [1., 2., 3.]], dtype=float32)"
            ]
          },
          "metadata": {
            "tags": []
          },
          "execution_count": 64
        }
      ]
    },
    {
      "cell_type": "markdown",
      "metadata": {
        "id": "nkcPMaBGJ2tr",
        "colab_type": "text"
      },
      "source": [
        "### comparisons"
      ]
    },
    {
      "cell_type": "code",
      "metadata": {
        "id": "CDZGK9YYJ2ts",
        "colab_type": "code",
        "outputId": "ce88d88f-508f-4afb-e767-9743bedf244f",
        "colab": {
          "base_uri": "https://localhost:8080/",
          "height": 34
        }
      },
      "source": [
        "t4 <= 2"
      ],
      "execution_count": 65,
      "outputs": [
        {
          "output_type": "execute_result",
          "data": {
            "text/plain": [
              "tensor([1, 1, 0], dtype=torch.uint8)"
            ]
          },
          "metadata": {
            "tags": []
          },
          "execution_count": 65
        }
      ]
    },
    {
      "cell_type": "code",
      "metadata": {
        "id": "UaGhtz7K0vYi",
        "colab_type": "code",
        "colab": {
          "base_uri": "https://localhost:8080/",
          "height": 34
        },
        "outputId": "fd3746b2-0eae-4941-c580-ba44e499a647"
      },
      "source": [
        "t4.le(2)"
      ],
      "execution_count": 67,
      "outputs": [
        {
          "output_type": "execute_result",
          "data": {
            "text/plain": [
              "tensor([1, 1, 0], dtype=torch.uint8)"
            ]
          },
          "metadata": {
            "tags": []
          },
          "execution_count": 67
        }
      ]
    },
    {
      "cell_type": "markdown",
      "metadata": {
        "id": "X9ZJ3SV-0qrS",
        "colab_type": "text"
      },
      "source": [
        "### element wise comparison\n",
        "- t.eq(1)\n",
        "- t.ge(1)\n",
        "- t.gt(0)\n",
        "- t.lt(0)\n",
        "- t.le(0)\n",
        "\n",
        "### element wise funcs\n",
        "- t.abs()\n",
        "- t.sqrt()\n",
        "- t.neg()"
      ]
    },
    {
      "cell_type": "markdown",
      "metadata": {
        "id": "Y2hJnMi1J2ty",
        "colab_type": "text"
      },
      "source": [
        "### reduction operations"
      ]
    },
    {
      "cell_type": "code",
      "metadata": {
        "id": "uRlAPr8rJ2tz",
        "colab_type": "code",
        "outputId": "191fb6fb-9cb6-49d3-9b27-847198ceb8aa",
        "colab": {
          "base_uri": "https://localhost:8080/",
          "height": 68
        }
      },
      "source": [
        "t1 = torch.rand(3,5)\n",
        "t1"
      ],
      "execution_count": 68,
      "outputs": [
        {
          "output_type": "execute_result",
          "data": {
            "text/plain": [
              "tensor([[0.8001, 0.4027, 0.0621, 0.2939, 0.7122],\n",
              "        [0.1465, 0.1640, 0.0184, 0.5465, 0.0426],\n",
              "        [0.3010, 0.0352, 0.2819, 0.8323, 0.1359]])"
            ]
          },
          "metadata": {
            "tags": []
          },
          "execution_count": 68
        }
      ]
    },
    {
      "cell_type": "code",
      "metadata": {
        "id": "sw3qcOFMJ2t6",
        "colab_type": "code",
        "outputId": "9f2be0d8-df16-4450-ca2c-17e03d9f5173",
        "colab": {
          "base_uri": "https://localhost:8080/",
          "height": 34
        }
      },
      "source": [
        "t1.sum()"
      ],
      "execution_count": 69,
      "outputs": [
        {
          "output_type": "execute_result",
          "data": {
            "text/plain": [
              "tensor(4.7752)"
            ]
          },
          "metadata": {
            "tags": []
          },
          "execution_count": 69
        }
      ]
    },
    {
      "cell_type": "code",
      "metadata": {
        "id": "AZCpvWB0J2uF",
        "colab_type": "code",
        "outputId": "4c9e5285-1eca-460f-cc1c-0a513f4a9090",
        "colab": {
          "base_uri": "https://localhost:8080/",
          "height": 34
        }
      },
      "source": [
        "t1.mean()"
      ],
      "execution_count": 70,
      "outputs": [
        {
          "output_type": "execute_result",
          "data": {
            "text/plain": [
              "tensor(0.3183)"
            ]
          },
          "metadata": {
            "tags": []
          },
          "execution_count": 70
        }
      ]
    },
    {
      "cell_type": "code",
      "metadata": {
        "id": "E-S8urL-J2uL",
        "colab_type": "code",
        "outputId": "41799fde-a273-4323-c833-4d20a589d248",
        "colab": {
          "base_uri": "https://localhost:8080/",
          "height": 34
        }
      },
      "source": [
        "t1.std()"
      ],
      "execution_count": 71,
      "outputs": [
        {
          "output_type": "execute_result",
          "data": {
            "text/plain": [
              "tensor(0.2817)"
            ]
          },
          "metadata": {
            "tags": []
          },
          "execution_count": 71
        }
      ]
    },
    {
      "cell_type": "code",
      "metadata": {
        "id": "5E2dtWqh19kD",
        "colab_type": "code",
        "colab": {
          "base_uri": "https://localhost:8080/",
          "height": 34
        },
        "outputId": "5e3097f3-18e2-4fd0-c2cf-aa78762cb29f"
      },
      "source": [
        "t1.prod()"
      ],
      "execution_count": 74,
      "outputs": [
        {
          "output_type": "execute_result",
          "data": {
            "text/plain": [
              "tensor(1.4557e-11)"
            ]
          },
          "metadata": {
            "tags": []
          },
          "execution_count": 74
        }
      ]
    },
    {
      "cell_type": "code",
      "metadata": {
        "id": "DYEFqI1hJ2uS",
        "colab_type": "code",
        "outputId": "9956b6c8-04c8-4abe-a02c-f45cbc7e0820",
        "colab": {
          "base_uri": "https://localhost:8080/",
          "height": 34
        }
      },
      "source": [
        "t1.sum(dim=0)"
      ],
      "execution_count": 75,
      "outputs": [
        {
          "output_type": "execute_result",
          "data": {
            "text/plain": [
              "tensor([1.2476, 0.6018, 0.3624, 1.6728, 0.8906])"
            ]
          },
          "metadata": {
            "tags": []
          },
          "execution_count": 75
        }
      ]
    },
    {
      "cell_type": "code",
      "metadata": {
        "id": "04RG5KUBJ2ud",
        "colab_type": "code",
        "outputId": "f18d6b07-e072-40e7-d09c-344177449cd6",
        "colab": {
          "base_uri": "https://localhost:8080/",
          "height": 34
        }
      },
      "source": [
        "t1.sum(dim=1)"
      ],
      "execution_count": 76,
      "outputs": [
        {
          "output_type": "execute_result",
          "data": {
            "text/plain": [
              "tensor([2.2709, 0.9179, 1.5863])"
            ]
          },
          "metadata": {
            "tags": []
          },
          "execution_count": 76
        }
      ]
    },
    {
      "cell_type": "code",
      "metadata": {
        "id": "KjY7sRaEJ2uk",
        "colab_type": "code",
        "outputId": "060492a8-bb9e-44c7-fe6c-2198ab09f92a",
        "colab": {
          "base_uri": "https://localhost:8080/",
          "height": 34
        }
      },
      "source": [
        "t1.argmax() #returns position the element, index from flatten"
      ],
      "execution_count": 77,
      "outputs": [
        {
          "output_type": "execute_result",
          "data": {
            "text/plain": [
              "tensor(13)"
            ]
          },
          "metadata": {
            "tags": []
          },
          "execution_count": 77
        }
      ]
    },
    {
      "cell_type": "code",
      "metadata": {
        "id": "CzqgE_F6J2ur",
        "colab_type": "code",
        "outputId": "2d795bd1-1e7a-41b8-ebe0-6a630ed10d44",
        "colab": {
          "base_uri": "https://localhost:8080/",
          "height": 34
        }
      },
      "source": [
        "t1.max() , t1.max().item() #get the value"
      ],
      "execution_count": 78,
      "outputs": [
        {
          "output_type": "execute_result",
          "data": {
            "text/plain": [
              "(tensor(0.8323), 0.8323473334312439)"
            ]
          },
          "metadata": {
            "tags": []
          },
          "execution_count": 78
        }
      ]
    },
    {
      "cell_type": "code",
      "metadata": {
        "id": "PRoCnOJ-J2u0",
        "colab_type": "code",
        "outputId": "fd2c21c4-7cde-4f0d-9620-b7a0ee2961d0",
        "colab": {
          "base_uri": "https://localhost:8080/",
          "height": 34
        }
      },
      "source": [
        "t1.argmax(dim=1)"
      ],
      "execution_count": 80,
      "outputs": [
        {
          "output_type": "execute_result",
          "data": {
            "text/plain": [
              "tensor([0, 3, 3])"
            ]
          },
          "metadata": {
            "tags": []
          },
          "execution_count": 80
        }
      ]
    },
    {
      "cell_type": "markdown",
      "metadata": {
        "id": "BgJJaIbqJ2u8",
        "colab_type": "text"
      },
      "source": [
        "- .item()\n",
        "- .tolist()\n",
        "- .numpy()"
      ]
    }
  ]
}